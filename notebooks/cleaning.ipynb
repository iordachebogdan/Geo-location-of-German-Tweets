{
 "metadata": {
  "language_info": {
   "codemirror_mode": {
    "name": "ipython",
    "version": 3
   },
   "file_extension": ".py",
   "mimetype": "text/x-python",
   "name": "python",
   "nbconvert_exporter": "python",
   "pygments_lexer": "ipython3",
   "version": "3.8.5-final"
  },
  "orig_nbformat": 2,
  "kernelspec": {
   "name": "python3",
   "display_name": "Python 3",
   "language": "python"
  }
 },
 "nbformat": 4,
 "nbformat_minor": 2,
 "cells": [
  {
   "cell_type": "code",
   "execution_count": 2,
   "metadata": {},
   "outputs": [
    {
     "output_type": "execute_result",
     "data": {
      "text/plain": [
       "       id        lat       long  \\\n",
       "0  119165  51.810067  10.191331   \n",
       "1  100377  51.918188  10.599245   \n",
       "2  109550  52.711074   9.987374   \n",
       "3  111440  52.386711  11.700612   \n",
       "4  116670  52.314631   9.701835   \n",
       "\n",
       "                                                text  \n",
       "0  Seit d Vase: \"Wenn ich kaputt gang, bringt das...  \n",
       "1  Haha bin au w isch der amig au so richtig lang...  \n",
       "2  isch d hiltl dachterrasse amne samstig viel bs...  \n",
       "3  Ich fühle mich wie die Weimarer Republik... .....  \n",
       "4  Eui liebschte Lunchidee zum Mitneh? 😬 En Grill...  "
      ],
      "text/html": "<div>\n<style scoped>\n    .dataframe tbody tr th:only-of-type {\n        vertical-align: middle;\n    }\n\n    .dataframe tbody tr th {\n        vertical-align: top;\n    }\n\n    .dataframe thead th {\n        text-align: right;\n    }\n</style>\n<table border=\"1\" class=\"dataframe\">\n  <thead>\n    <tr style=\"text-align: right;\">\n      <th></th>\n      <th>id</th>\n      <th>lat</th>\n      <th>long</th>\n      <th>text</th>\n    </tr>\n  </thead>\n  <tbody>\n    <tr>\n      <th>0</th>\n      <td>119165</td>\n      <td>51.810067</td>\n      <td>10.191331</td>\n      <td>Seit d Vase: \"Wenn ich kaputt gang, bringt das...</td>\n    </tr>\n    <tr>\n      <th>1</th>\n      <td>100377</td>\n      <td>51.918188</td>\n      <td>10.599245</td>\n      <td>Haha bin au w isch der amig au so richtig lang...</td>\n    </tr>\n    <tr>\n      <th>2</th>\n      <td>109550</td>\n      <td>52.711074</td>\n      <td>9.987374</td>\n      <td>isch d hiltl dachterrasse amne samstig viel bs...</td>\n    </tr>\n    <tr>\n      <th>3</th>\n      <td>111440</td>\n      <td>52.386711</td>\n      <td>11.700612</td>\n      <td>Ich fühle mich wie die Weimarer Republik... .....</td>\n    </tr>\n    <tr>\n      <th>4</th>\n      <td>116670</td>\n      <td>52.314631</td>\n      <td>9.701835</td>\n      <td>Eui liebschte Lunchidee zum Mitneh? 😬 En Grill...</td>\n    </tr>\n  </tbody>\n</table>\n</div>"
     },
     "metadata": {},
     "execution_count": 2
    }
   ],
   "source": [
    "import pandas as pd\n",
    "\n",
    "COLS = [\"id\", \"lat\", \"long\", \"text\"]\n",
    "df_train = pd.read_csv(\"../data/training.txt\", names=COLS)\n",
    "df_val = pd.read_csv(\"../data/validation.txt\", names=COLS)\n",
    "\n",
    "df_train.head()"
   ]
  },
  {
   "cell_type": "code",
   "execution_count": 3,
   "metadata": {},
   "outputs": [
    {
     "output_type": "execute_result",
     "data": {
      "text/plain": [
       "'Haha bin au w isch der amig au so richtig langwilig?😂 Was bisch denn du? 😂 Aso m oder w meini😂 @1 meini eig sry han irgendwie ned päcct das ich s zwei bin aso alli mini nachrichte sind a dich 😂 Wend mer zeme iwo anderst chli schribe Ja chömer verschrick eif ned bin noni so alt aso wenns der ned passt chasch di ja ez melde😂😂 @1 und susch hesch kik? Oder so 2 ischen cop I guarantee it @4 polizist oder was? @2 bini z alt für dich @1 hahah musch du wüsse Hesch mer dini nummere ? @1 nummere... Hesch kei kik? @3 ja das heisst?😂'"
      ]
     },
     "metadata": {},
     "execution_count": 3
    }
   ],
   "source": [
    "df_train.text[1]"
   ]
  },
  {
   "cell_type": "code",
   "execution_count": 13,
   "metadata": {},
   "outputs": [],
   "source": [
    "import emot\n",
    "import re\n",
    "\n",
    "def replace_emoji(text):\n",
    "    while True:\n",
    "        emoji = emot.emoji(text)\n",
    "        if not isinstance(emoji, dict) or not emoji[\"flag\"]:\n",
    "            break\n",
    "        mean = emoji[\"mean\"][0][1:-1].lower()\n",
    "        mean = re.sub(r\"[^a-z]\", \" \", mean)\n",
    "        mean = re.sub(r\"\\s+\", \" \", mean)\n",
    "        mean = mean.strip()\n",
    "        mean = \"_\".join(mean.split(\" \"))\n",
    "        text = (\n",
    "            text[:emoji[\"location\"][0][0]] +\n",
    "            \" #\" + mean + \"# \" +\n",
    "            text[emoji[\"location\"][0][1] + 1:]\n",
    "        )\n",
    "    return text\n"
   ]
  },
  {
   "cell_type": "code",
   "execution_count": 14,
   "metadata": {
    "tags": []
   },
   "outputs": [
    {
     "output_type": "execute_result",
     "data": {
      "text/plain": [
       "'haha bin au w isch der amig au so richtig langwilig? #face_with_tears_of_joy#  was bisch denn du?  #face_with_tears_of_joy#  aso m oder w meini #face_with_tears_of_joy#  @1 meini eig sry han irgendwie ned päcct das ich s zwei bin aso alli mini nachrichte sind a dich  #face_with_tears_of_joy#  wend mer zeme iwo anderst chli schribe ja chömer verschrick eif ned bin noni so alt aso wenns der ned passt chasch di ja ez melde #face_with_tears_of_joy#  #face_with_tears_of_joy#  @1 und susch hesch kik? oder so 2 ischen cop i guarantee it @4 polizist oder was? @2 bini z alt für dich @1 hahah musch du wüsse hesch mer dini nummere ? @1 nummere... hesch kei kik? @3 ja das heisst? #face_with_tears_of_joy# '"
      ]
     },
     "metadata": {},
     "execution_count": 14
    }
   ],
   "source": [
    "example = replace_emoji(df_train.text[1]).lower()\n",
    "example"
   ]
  },
  {
   "cell_type": "code",
   "execution_count": 5,
   "metadata": {},
   "outputs": [],
   "source": [
    "import re\n",
    "\n",
    "def replace_user_handles(text):\n",
    "    return re.sub(r\"@[^\\s]+\", \" :user_handle: \", text)"
   ]
  },
  {
   "cell_type": "code",
   "execution_count": 16,
   "metadata": {},
   "outputs": [
    {
     "output_type": "execute_result",
     "data": {
      "text/plain": [
       "'haha bin au w isch der amig au so richtig langwilig? :face_with_tears_of_joy:  was bisch denn du?  :face_with_tears_of_joy:  aso m oder w meini :face_with_tears_of_joy:   :user_handle:  meini eig sry han irgendwie ned päcct das ich s zwei bin aso alli mini nachrichte sind a dich  :face_with_tears_of_joy:  wend mer zeme iwo anderst chli schribe ja chömer verschrick eif ned bin noni so alt aso wenns der ned passt chasch di ja ez melde :face_with_tears_of_joy:  :face_with_tears_of_joy:   :user_handle:  und susch hesch kik? oder so 2 ischen cop i guarantee it  :user_handle:  polizist oder was?  :user_handle:  bini z alt für dich  :user_handle:  hahah musch du wüsse hesch mer dini nummere ?  :user_handle:  nummere... hesch kei kik?  :user_handle:  ja das heisst? :face_with_tears_of_joy: '"
      ]
     },
     "metadata": {},
     "execution_count": 16
    }
   ],
   "source": [
    "example = replace_user_handles(example)\n",
    "example"
   ]
  },
  {
   "cell_type": "code",
   "execution_count": 6,
   "metadata": {},
   "outputs": [],
   "source": [
    "def remove_symbols(text):\n",
    "    text = re.sub(r\"[^a-zA-Zäöüß:_#]\", \" \", text)\n",
    "    text = re.sub(r\"\\s+\", \" \", text)\n",
    "    text = text.strip()\n",
    "    return text"
   ]
  },
  {
   "cell_type": "code",
   "execution_count": 7,
   "metadata": {},
   "outputs": [
    {
     "output_type": "execute_result",
     "data": {
      "text/plain": [
       "'haha bin au w isch der amig au so richtig langwilig :face_with_tears_of_joy: was bisch denn du :face_with_tears_of_joy: aso m oder w meini :face_with_tears_of_joy: meini eig sry han irgendwie ned päcct das ich s zwei bin aso alli mini nachrichte sind a dich :face_with_tears_of_joy: wend mer zeme iwo anderst chli schribe ja chömer verschrick eif ned bin noni so alt aso wenns der ned passt chasch di ja ez melde :face_with_tears_of_joy: :face_with_tears_of_joy: und susch hesch kik oder so ischen cop i guarantee it polizist oder was bini z alt für dich hahah musch du wüsse hesch mer dini nummere nummere hesch kei kik ja das heisst :face_with_tears_of_joy:'"
      ]
     },
     "metadata": {},
     "execution_count": 7
    }
   ],
   "source": [
    "example = remove_symbols(example)\n",
    "example"
   ]
  },
  {
   "cell_type": "code",
   "execution_count": 18,
   "metadata": {},
   "outputs": [],
   "source": [
    "import emot\n",
    "\n",
    "def replace_emoticons(text):\n",
    "    while True:\n",
    "        emoticons = emot.emoticons(text)\n",
    "        if not isinstance(emoticons, dict) or not emoticons[\"flag\"]:\n",
    "            break\n",
    "        mean = emoticons[\"mean\"][0].lower()\n",
    "        mean = re.sub(r\"[^a-z]\", \" \", mean)\n",
    "        mean = re.sub(r\"\\s+\", \" \", mean)\n",
    "        mean = mean.strip()\n",
    "        mean = \"_\".join(mean.split(\" \"))\n",
    "        text = (\n",
    "            text[:emoticons[\"location\"][0][0]] +\n",
    "            \" #\" + mean + \"# \" +\n",
    "            text[emoticons[\"location\"][0][1]:]\n",
    "        )\n",
    "    return text\n"
   ]
  },
  {
   "cell_type": "code",
   "execution_count": 19,
   "metadata": {},
   "outputs": [
    {
     "output_type": "stream",
     "name": "stdout",
     "text": [
      "Papi seit wänner hei chund heter Strecki im Griff Suscht fahrter immer zlangsam aber in Lungere fahrter zügig Kurve😂 Ich liebe Passfahre😍😍 Denn gemmer mal zeme :-) ob mit töff oder auto chasch du entscheide :o Awas verzell meh Ich bin w27gi stah mit beidene Bei im Lebe und schaffe im medizinische Bereich Haarfarb, vorliebe bim sex, wc agwohnheite Blond. Sex isch schön ghört ine Beziehig und nöd in Jodel. 😂😂😂😂 Demfall gemmer zeme mal go pass fahre :-) Chumi au mit als 3. Rad haha Nei asso peace out @oj was fahrsch füren töff?:)\nPapi seit wänner hei chund heter Strecki im Griff Suscht fahrter immer zlangsam aber in Lungere fahrter zügig Kurve😂 Ich liebe Passfahre😍😍 Denn gemmer mal zeme  #happy_face_smiley#  ob mit töff oder auto chasch du entscheide  #surprise#  Awas verzell meh Ich bin w27gi stah mit beidene Bei im Lebe und schaffe im medizinische Bereich Haarfarb, vorliebe bim sex, wc agwohnheite Blond. Sex isch schön ghört ine Beziehig und nöd in Jodel. 😂😂😂😂 Demfall gemmer zeme mal go pass fahre  #happy_face_smiley#  Chumi au mit als 3. Rad haha Nei asso peace out @oj was fahrsch füren töff? #happy_face_or_smiley# \n"
     ]
    }
   ],
   "source": [
    "example = df_train.text[8188]\n",
    "print(example)\n",
    "print(replace_emoticons(example))"
   ]
  },
  {
   "cell_type": "code",
   "execution_count": 20,
   "metadata": {},
   "outputs": [],
   "source": [
    "def clean(text):\n",
    "    text = text.lower()\n",
    "    text = re.sub(r\"@[^\\s]+\", \" #user_handle# \", text)\n",
    "    text = re.sub(r\"https?://[^ ]+\", \" #url# \", text)\n",
    "    text = re.sub(r\"www.[^ ]+\", \" #url# \", text)\n",
    "    while True:\n",
    "        emoji = emot.emoji(text)\n",
    "        if not isinstance(emoji, dict) or not emoji[\"flag\"]:\n",
    "            break\n",
    "        mean = emoji[\"mean\"][0][1:-1].lower()\n",
    "        mean = re.sub(r\"[^a-z]\", \" \", mean)\n",
    "        mean = re.sub(r\"\\s+\", \" \", mean)\n",
    "        mean = mean.strip()\n",
    "        mean = \"_\".join(mean.split(\" \"))\n",
    "        text = (\n",
    "            text[:emoji[\"location\"][0][0]] +\n",
    "            \" #\" + mean + \"# \" +\n",
    "            text[emoji[\"location\"][0][1] + 1:]\n",
    "        )\n",
    "    while True:\n",
    "        emoticons = emot.emoticons(text)\n",
    "        if not isinstance(emoticons, dict) or not emoticons[\"flag\"]:\n",
    "            break\n",
    "        mean = emoticons[\"mean\"][0].lower()\n",
    "        mean = re.sub(r\"[^a-z]\", \" \", mean)\n",
    "        mean = re.sub(r\"\\s+\", \" \", mean)\n",
    "        mean = mean.strip()\n",
    "        mean = \"_\".join(mean.split(\" \"))\n",
    "        text = (\n",
    "            text[:emoticons[\"location\"][0][0]] +\n",
    "            \" #\" + mean + \"# \" +\n",
    "            text[emoticons[\"location\"][0][1]:]\n",
    "        )\n",
    "    text = re.sub(r\"[^a-zA-Zäöüß_#-]\", \" \", text)\n",
    "    text = re.sub(r\"\\s+\", \" \", text)\n",
    "    text = text.strip()\n",
    "    return text"
   ]
  },
  {
   "cell_type": "code",
   "execution_count": 21,
   "metadata": {},
   "outputs": [
    {
     "output_type": "stream",
     "name": "stdout",
     "text": [
      "Haha bin au w isch der amig au so richtig langwilig?😂 Was bisch denn du? 😂 Aso m oder w meini😂 @1 meini eig sry han irgendwie ned päcct das ich s zwei bin aso alli mini nachrichte sind a dich 😂 Wend mer zeme iwo anderst chli schribe Ja chömer verschrick eif ned bin noni so alt aso wenns der ned passt chasch di ja ez melde😂😂 @1 und susch hesch kik? Oder so 2 ischen cop I guarantee it @4 polizist oder was? @2 bini z alt für dich @1 hahah musch du wüsse Hesch mer dini nummere ? @1 nummere... Hesch kei kik? @3 ja das heisst?😂\n\nhaha bin au w isch der amig au so richtig langwilig #face_with_tears_of_joy# was bisch denn du #face_with_tears_of_joy# aso m oder w meini #face_with_tears_of_joy# #user_handle# meini eig sry han irgendwie ned päcct das ich s zwei bin aso alli mini nachrichte sind a dich #face_with_tears_of_joy# wend mer zeme iwo anderst chli schribe ja chömer verschrick eif ned bin noni so alt aso wenns der ned passt chasch di ja ez melde #face_with_tears_of_joy# #face_with_tears_of_joy# #user_handle# und susch hesch kik oder so ischen cop i guarantee it #user_handle# polizist oder was #user_handle# bini z alt für dich #user_handle# hahah musch du wüsse hesch mer dini nummere #user_handle# nummere hesch kei kik #user_handle# ja das heisst #face_with_tears_of_joy#\n"
     ]
    }
   ],
   "source": [
    "print(df_train.text[1] + \"\\n\")\n",
    "print(clean(df_train.text[1]))\n"
   ]
  },
  {
   "cell_type": "code",
   "execution_count": 22,
   "metadata": {},
   "outputs": [
    {
     "output_type": "stream",
     "name": "stdout",
     "text": [
      "het eini lust chli schriebe? 😬 du kasch offebar nid schribe 😂😂 Ja 079 9000000 du bisch grusig #oldbutgold @2 isch e 0 z'viel\n\nhet eini lust chli schriebe #grimacing_face# du kasch offebar nid schribe #face_with_tears_of_joy# #face_with_tears_of_joy# ja du bisch grusig #oldbutgold #user_handle# isch e z viel\n"
     ]
    }
   ],
   "source": [
    "print(df_train.text[18412] + \"\\n\")\n",
    "print(clean(df_train.text[18412]))\n"
   ]
  },
  {
   "cell_type": "code",
   "execution_count": 23,
   "metadata": {},
   "outputs": [
    {
     "output_type": "stream",
     "name": "stdout",
     "text": [
      "De Tod vom Chester Bennington zieht mich gat chli abe, chan mich öbbert chli ufheitere? Liegt der Bauer auf der Magd, dann hat wohl seine Frau versagt. ...wennd schlecht druff bisch denk drah, dadusse giz fraue wo bi rege kei augebraue me hend... https://youtu.be/5WVVyAhbX60 Chunsch no ufes bier Toll en random ma stirbt und dir gahts scheisse... gg Ich han dini muetter gschwängert Gruess din vater\n\nde tod vom chester bennington zieht mich gat chli abe chan mich öbbert chli ufheitere liegt der bauer auf der magd dann hat wohl seine frau versagt wennd schlecht druff bisch denk drah dadusse giz fraue wo bi rege kei augebraue me hend #url# chunsch no ufes bier toll en random ma stirbt und dir gahts scheisse gg ich han dini muetter gschwängert gruess din vater\n"
     ]
    }
   ],
   "source": [
    "print(df_train.text[4351] + \"\\n\")\n",
    "print(clean(df_train.text[4351]))\n"
   ]
  },
  {
   "cell_type": "code",
   "execution_count": 24,
   "metadata": {},
   "outputs": [
    {
     "output_type": "stream",
     "name": "stdout",
     "text": [
      "Papi seit wänner hei chund heter Strecki im Griff Suscht fahrter immer zlangsam aber in Lungere fahrter zügig Kurve😂 Ich liebe Passfahre😍😍 Denn gemmer mal zeme :-) ob mit töff oder auto chasch du entscheide :o Awas verzell meh Ich bin w27gi stah mit beidene Bei im Lebe und schaffe im medizinische Bereich Haarfarb, vorliebe bim sex, wc agwohnheite Blond. Sex isch schön ghört ine Beziehig und nöd in Jodel. 😂😂😂😂 Demfall gemmer zeme mal go pass fahre :-) Chumi au mit als 3. Rad haha Nei asso peace out @oj was fahrsch füren töff?:)\n\npapi seit wänner hei chund heter strecki im griff suscht fahrter immer zlangsam aber in lungere fahrter zügig kurve #face_with_tears_of_joy# ich liebe passfahre #smiling_face_with_heart_eyes# #smiling_face_with_heart_eyes# denn gemmer mal zeme #happy_face_smiley# ob mit töff oder auto chasch du entscheide #surprise# awas verzell meh ich bin w gi stah mit beidene bei im lebe und schaffe im medizinische bereich haarfarb vorliebe bim sex wc agwohnheite blond sex isch schön ghört ine beziehig und nöd in jodel #face_with_tears_of_joy# #face_with_tears_of_joy# #face_with_tears_of_joy# #face_with_tears_of_joy# demfall gemmer zeme mal go pass fahre #happy_face_smiley# chumi au mit als rad haha nei asso peace out #user_handle# was fahrsch füren töff #happy_face_or_smiley#\n"
     ]
    }
   ],
   "source": [
    "print(df_train.text[8188] + \"\\n\")\n",
    "print(clean(df_train.text[8188]))\n"
   ]
  },
  {
   "cell_type": "code",
   "execution_count": 32,
   "metadata": {},
   "outputs": [
    {
     "output_type": "execute_result",
     "data": {
      "text/plain": [
       "{'value': ['😍'],\n",
       " 'mean': [':smiling_face_with_heart-eyes:'],\n",
       " 'location': [[0, 0]],\n",
       " 'flag': True}"
      ]
     },
     "metadata": {},
     "execution_count": 32
    }
   ],
   "source": [
    "emot.emoji(\"😍\")"
   ]
  }
 ]
}