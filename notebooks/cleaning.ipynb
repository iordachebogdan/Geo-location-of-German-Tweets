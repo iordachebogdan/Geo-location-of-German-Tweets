{
 "metadata": {
  "language_info": {
   "codemirror_mode": {
    "name": "ipython",
    "version": 3
   },
   "file_extension": ".py",
   "mimetype": "text/x-python",
   "name": "python",
   "nbconvert_exporter": "python",
   "pygments_lexer": "ipython3",
   "version": "3.8.5-final"
  },
  "orig_nbformat": 2,
  "kernelspec": {
   "name": "python3",
   "display_name": "Python 3",
   "language": "python"
  }
 },
 "nbformat": 4,
 "nbformat_minor": 2,
 "cells": [
  {
   "cell_type": "code",
   "execution_count": 1,
   "metadata": {},
   "outputs": [
    {
     "output_type": "execute_result",
     "data": {
      "text/plain": [
       "       id        lat       long  \\\n",
       "0  119165  51.810067  10.191331   \n",
       "1  100377  51.918188  10.599245   \n",
       "2  109550  52.711074   9.987374   \n",
       "3  111440  52.386711  11.700612   \n",
       "4  116670  52.314631   9.701835   \n",
       "\n",
       "                                                text  \n",
       "0  Seit d Vase: \"Wenn ich kaputt gang, bringt das...  \n",
       "1  Haha bin au w isch der amig au so richtig lang...  \n",
       "2  isch d hiltl dachterrasse amne samstig viel bs...  \n",
       "3  Ich fühle mich wie die Weimarer Republik... .....  \n",
       "4  Eui liebschte Lunchidee zum Mitneh? 😬 En Grill...  "
      ],
      "text/html": "<div>\n<style scoped>\n    .dataframe tbody tr th:only-of-type {\n        vertical-align: middle;\n    }\n\n    .dataframe tbody tr th {\n        vertical-align: top;\n    }\n\n    .dataframe thead th {\n        text-align: right;\n    }\n</style>\n<table border=\"1\" class=\"dataframe\">\n  <thead>\n    <tr style=\"text-align: right;\">\n      <th></th>\n      <th>id</th>\n      <th>lat</th>\n      <th>long</th>\n      <th>text</th>\n    </tr>\n  </thead>\n  <tbody>\n    <tr>\n      <th>0</th>\n      <td>119165</td>\n      <td>51.810067</td>\n      <td>10.191331</td>\n      <td>Seit d Vase: \"Wenn ich kaputt gang, bringt das...</td>\n    </tr>\n    <tr>\n      <th>1</th>\n      <td>100377</td>\n      <td>51.918188</td>\n      <td>10.599245</td>\n      <td>Haha bin au w isch der amig au so richtig lang...</td>\n    </tr>\n    <tr>\n      <th>2</th>\n      <td>109550</td>\n      <td>52.711074</td>\n      <td>9.987374</td>\n      <td>isch d hiltl dachterrasse amne samstig viel bs...</td>\n    </tr>\n    <tr>\n      <th>3</th>\n      <td>111440</td>\n      <td>52.386711</td>\n      <td>11.700612</td>\n      <td>Ich fühle mich wie die Weimarer Republik... .....</td>\n    </tr>\n    <tr>\n      <th>4</th>\n      <td>116670</td>\n      <td>52.314631</td>\n      <td>9.701835</td>\n      <td>Eui liebschte Lunchidee zum Mitneh? 😬 En Grill...</td>\n    </tr>\n  </tbody>\n</table>\n</div>"
     },
     "metadata": {},
     "execution_count": 1
    }
   ],
   "source": [
    "import pandas as pd\n",
    "\n",
    "COLS = [\"id\", \"lat\", \"long\", \"text\"]\n",
    "df_train = pd.read_csv(\"../data/training.txt\", names=COLS)\n",
    "df_val = pd.read_csv(\"../data/validation.txt\", names=COLS)\n",
    "\n",
    "df_train.head()"
   ]
  },
  {
   "cell_type": "code",
   "execution_count": 8,
   "metadata": {},
   "outputs": [
    {
     "output_type": "execute_result",
     "data": {
      "text/plain": [
       "'Haha bin au w isch der amig au so richtig langwilig?😂 Was bisch denn du? 😂 Aso m oder w meini😂 @1 meini eig sry han irgendwie ned päcct das ich s zwei bin aso alli mini nachrichte sind a dich 😂 Wend mer zeme iwo anderst chli schribe Ja chömer verschrick eif ned bin noni so alt aso wenns der ned passt chasch di ja ez melde😂😂 @1 und susch hesch kik? Oder so 2 ischen cop I guarantee it @4 polizist oder was? @2 bini z alt für dich @1 hahah musch du wüsse Hesch mer dini nummere ? @1 nummere... Hesch kei kik? @3 ja das heisst?😂'"
      ]
     },
     "metadata": {},
     "execution_count": 8
    }
   ],
   "source": [
    "df_train.text[1]"
   ]
  },
  {
   "cell_type": "code",
   "execution_count": 3,
   "metadata": {},
   "outputs": [],
   "source": [
    "from emoji import demojize\n",
    "\n",
    "def replace_emoji(text):\n",
    "    return demojize(text, delimiters=(\" :\", \": \"))\n"
   ]
  },
  {
   "cell_type": "code",
   "execution_count": 15,
   "metadata": {},
   "outputs": [
    {
     "output_type": "execute_result",
     "data": {
      "text/plain": [
       "'haha bin au w isch der amig au so richtig langwilig? :face_with_tears_of_joy:  was bisch denn du?  :face_with_tears_of_joy:  aso m oder w meini :face_with_tears_of_joy:  @1 meini eig sry han irgendwie ned päcct das ich s zwei bin aso alli mini nachrichte sind a dich  :face_with_tears_of_joy:  wend mer zeme iwo anderst chli schribe ja chömer verschrick eif ned bin noni so alt aso wenns der ned passt chasch di ja ez melde :face_with_tears_of_joy:  :face_with_tears_of_joy:  @1 und susch hesch kik? oder so 2 ischen cop i guarantee it @4 polizist oder was? @2 bini z alt für dich @1 hahah musch du wüsse hesch mer dini nummere ? @1 nummere... hesch kei kik? @3 ja das heisst? :face_with_tears_of_joy: '"
      ]
     },
     "metadata": {},
     "execution_count": 15
    }
   ],
   "source": [
    "example = replace_emoji(df_train.text[1]).lower()\n",
    "example"
   ]
  },
  {
   "cell_type": "code",
   "execution_count": 14,
   "metadata": {},
   "outputs": [],
   "source": [
    "import re\n",
    "\n",
    "def replace_user_handles(text):\n",
    "    return re.sub(r\"@[^\\s]+\", \" :user_handle: \", text)"
   ]
  },
  {
   "cell_type": "code",
   "execution_count": 16,
   "metadata": {},
   "outputs": [
    {
     "output_type": "execute_result",
     "data": {
      "text/plain": [
       "'haha bin au w isch der amig au so richtig langwilig? :face_with_tears_of_joy:  was bisch denn du?  :face_with_tears_of_joy:  aso m oder w meini :face_with_tears_of_joy:   :user_handle:  meini eig sry han irgendwie ned päcct das ich s zwei bin aso alli mini nachrichte sind a dich  :face_with_tears_of_joy:  wend mer zeme iwo anderst chli schribe ja chömer verschrick eif ned bin noni so alt aso wenns der ned passt chasch di ja ez melde :face_with_tears_of_joy:  :face_with_tears_of_joy:   :user_handle:  und susch hesch kik? oder so 2 ischen cop i guarantee it  :user_handle:  polizist oder was?  :user_handle:  bini z alt für dich  :user_handle:  hahah musch du wüsse hesch mer dini nummere ?  :user_handle:  nummere... hesch kei kik?  :user_handle:  ja das heisst? :face_with_tears_of_joy: '"
      ]
     },
     "metadata": {},
     "execution_count": 16
    }
   ],
   "source": [
    "example = replace_user_handles(example)\n",
    "example"
   ]
  },
  {
   "cell_type": "code",
   "execution_count": 17,
   "metadata": {},
   "outputs": [],
   "source": [
    "def remove_symbols(text):\n",
    "    text = re.sub(r\"[^a-zA-Zäöüß:_#]\", \" \", text)\n",
    "    text = re.sub(r\"\\s+\", \" \", text)\n",
    "    text = text.strip()\n",
    "    return text"
   ]
  },
  {
   "cell_type": "code",
   "execution_count": 18,
   "metadata": {},
   "outputs": [
    {
     "output_type": "execute_result",
     "data": {
      "text/plain": [
       "'haha bin au w isch der amig au so richtig langwilig :face_with_tears_of_joy: was bisch denn du :face_with_tears_of_joy: aso m oder w meini :face_with_tears_of_joy: :user_handle: meini eig sry han irgendwie ned päcct das ich s zwei bin aso alli mini nachrichte sind a dich :face_with_tears_of_joy: wend mer zeme iwo anderst chli schribe ja chömer verschrick eif ned bin noni so alt aso wenns der ned passt chasch di ja ez melde :face_with_tears_of_joy: :face_with_tears_of_joy: :user_handle: und susch hesch kik oder so ischen cop i guarantee it :user_handle: polizist oder was :user_handle: bini z alt für dich :user_handle: hahah musch du wüsse hesch mer dini nummere :user_handle: nummere hesch kei kik :user_handle: ja das heisst :face_with_tears_of_joy:'"
      ]
     },
     "metadata": {},
     "execution_count": 18
    }
   ],
   "source": [
    "example = remove_symbols(example)\n",
    "example"
   ]
  },
  {
   "cell_type": "code",
   "execution_count": 27,
   "metadata": {},
   "outputs": [],
   "source": [
    "def clean(text):\n",
    "    text = text.lower()\n",
    "    text = demojize(text, delimiters=(\" :\", \": \"))\n",
    "    text = re.sub(r\"@[^\\s]+\", \" :user_handle: \", text)\n",
    "    text = re.sub(r\"https?://[^ ]+\", \" :url: \", text)\n",
    "    text = re.sub(r\"www.[^ ]+\", \" :url: \", text)\n",
    "    text = re.sub(r\"[^a-zA-Zäöüß:_#]\", \" \", text)\n",
    "    text = re.sub(r\"\\s+\", \" \", text)\n",
    "    text = text.strip()\n",
    "    return text"
   ]
  },
  {
   "cell_type": "code",
   "execution_count": 28,
   "metadata": {},
   "outputs": [
    {
     "output_type": "stream",
     "name": "stdout",
     "text": [
      "Haha bin au w isch der amig au so richtig langwilig?😂 Was bisch denn du? 😂 Aso m oder w meini😂 @1 meini eig sry han irgendwie ned päcct das ich s zwei bin aso alli mini nachrichte sind a dich 😂 Wend mer zeme iwo anderst chli schribe Ja chömer verschrick eif ned bin noni so alt aso wenns der ned passt chasch di ja ez melde😂😂 @1 und susch hesch kik? Oder so 2 ischen cop I guarantee it @4 polizist oder was? @2 bini z alt für dich @1 hahah musch du wüsse Hesch mer dini nummere ? @1 nummere... Hesch kei kik? @3 ja das heisst?😂\n\nhaha bin au w isch der amig au so richtig langwilig :face_with_tears_of_joy: was bisch denn du :face_with_tears_of_joy: aso m oder w meini :face_with_tears_of_joy: :user_handle: meini eig sry han irgendwie ned päcct das ich s zwei bin aso alli mini nachrichte sind a dich :face_with_tears_of_joy: wend mer zeme iwo anderst chli schribe ja chömer verschrick eif ned bin noni so alt aso wenns der ned passt chasch di ja ez melde :face_with_tears_of_joy: :face_with_tears_of_joy: :user_handle: und susch hesch kik oder so ischen cop i guarantee it :user_handle: polizist oder was :user_handle: bini z alt für dich :user_handle: hahah musch du wüsse hesch mer dini nummere :user_handle: nummere hesch kei kik :user_handle: ja das heisst :face_with_tears_of_joy:\n"
     ]
    }
   ],
   "source": [
    "print(df_train.text[1] + \"\\n\")\n",
    "print(clean(df_train.text[1]))\n"
   ]
  },
  {
   "cell_type": "code",
   "execution_count": 29,
   "metadata": {},
   "outputs": [
    {
     "output_type": "stream",
     "name": "stdout",
     "text": [
      "het eini lust chli schriebe? 😬 du kasch offebar nid schribe 😂😂 Ja 079 9000000 du bisch grusig #oldbutgold @2 isch e 0 z'viel\n\nhet eini lust chli schriebe :grimacing_face: du kasch offebar nid schribe :face_with_tears_of_joy: :face_with_tears_of_joy: ja du bisch grusig #oldbutgold :user_handle: isch e z viel\n"
     ]
    }
   ],
   "source": [
    "print(df_train.text[18412] + \"\\n\")\n",
    "print(clean(df_train.text[18412]))\n"
   ]
  },
  {
   "cell_type": "code",
   "execution_count": 30,
   "metadata": {},
   "outputs": [
    {
     "output_type": "stream",
     "name": "stdout",
     "text": [
      "De Tod vom Chester Bennington zieht mich gat chli abe, chan mich öbbert chli ufheitere? Liegt der Bauer auf der Magd, dann hat wohl seine Frau versagt. ...wennd schlecht druff bisch denk drah, dadusse giz fraue wo bi rege kei augebraue me hend... https://youtu.be/5WVVyAhbX60 Chunsch no ufes bier Toll en random ma stirbt und dir gahts scheisse... gg Ich han dini muetter gschwängert Gruess din vater\n\nde tod vom chester bennington zieht mich gat chli abe chan mich öbbert chli ufheitere liegt der bauer auf der magd dann hat wohl seine frau versagt wennd schlecht druff bisch denk drah dadusse giz fraue wo bi rege kei augebraue me hend :url: chunsch no ufes bier toll en random ma stirbt und dir gahts scheisse gg ich han dini muetter gschwängert gruess din vater\n"
     ]
    }
   ],
   "source": [
    "print(df_train.text[4351] + \"\\n\")\n",
    "print(clean(df_train.text[4351]))\n"
   ]
  },
  {
   "cell_type": "code",
   "execution_count": 35,
   "metadata": {},
   "outputs": [
    {
     "output_type": "execute_result",
     "data": {
      "text/plain": [
       "(array([6.900e+01, 6.800e+01, 0.000e+00, 0.000e+00, 0.000e+00, 0.000e+00,\n",
       "        0.000e+00, 0.000e+00, 0.000e+00, 0.000e+00, 3.200e+01, 6.700e+01,\n",
       "        0.000e+00, 1.000e+01, 0.000e+00, 0.000e+00, 5.230e+02, 5.100e+02,\n",
       "        7.300e+01, 3.530e+02, 6.830e+02, 6.000e+01, 1.599e+03, 1.400e+01,\n",
       "        1.600e+01, 5.730e+02, 1.017e+03, 1.940e+02, 3.260e+02, 3.010e+02,\n",
       "        1.574e+03, 6.770e+02, 1.850e+02, 1.637e+03, 1.176e+03, 1.450e+02,\n",
       "        2.151e+03, 8.670e+02, 7.170e+02, 6.990e+02, 2.117e+03, 1.952e+03,\n",
       "        6.330e+02, 1.171e+03, 1.260e+02, 2.000e+00, 0.000e+00, 3.700e+01,\n",
       "        2.240e+02, 5.000e+00]),\n",
       " array([48.17  , 48.2774, 48.3848, 48.4922, 48.5996, 48.707 , 48.8144,\n",
       "        48.9218, 49.0292, 49.1366, 49.244 , 49.3514, 49.4588, 49.5662,\n",
       "        49.6736, 49.781 , 49.8884, 49.9958, 50.1032, 50.2106, 50.318 ,\n",
       "        50.4254, 50.5328, 50.6402, 50.7476, 50.855 , 50.9624, 51.0698,\n",
       "        51.1772, 51.2846, 51.392 , 51.4994, 51.6068, 51.7142, 51.8216,\n",
       "        51.929 , 52.0364, 52.1438, 52.2512, 52.3586, 52.466 , 52.5734,\n",
       "        52.6808, 52.7882, 52.8956, 53.003 , 53.1104, 53.2178, 53.3252,\n",
       "        53.4326, 53.54  ]),\n",
       " <BarContainer object of 50 artists>)"
      ]
     },
     "metadata": {},
     "execution_count": 35
    },
    {
     "output_type": "display_data",
     "data": {
      "text/plain": "<Figure size 432x288 with 1 Axes>",
      "image/svg+xml": "<?xml version=\"1.0\" encoding=\"utf-8\" standalone=\"no\"?>\n<!DOCTYPE svg PUBLIC \"-//W3C//DTD SVG 1.1//EN\"\n  \"http://www.w3.org/Graphics/SVG/1.1/DTD/svg11.dtd\">\n<!-- Created with matplotlib (https://matplotlib.org/) -->\n<svg height=\"248.518125pt\" version=\"1.1\" viewBox=\"0 0 381.65 248.518125\" width=\"381.65pt\" xmlns=\"http://www.w3.org/2000/svg\" xmlns:xlink=\"http://www.w3.org/1999/xlink\">\n <metadata>\n  <rdf:RDF xmlns:cc=\"http://creativecommons.org/ns#\" xmlns:dc=\"http://purl.org/dc/elements/1.1/\" xmlns:rdf=\"http://www.w3.org/1999/02/22-rdf-syntax-ns#\">\n   <cc:Work>\n    <dc:type rdf:resource=\"http://purl.org/dc/dcmitype/StillImage\"/>\n    <dc:date>2020-12-30T17:26:37.164878</dc:date>\n    <dc:format>image/svg+xml</dc:format>\n    <dc:creator>\n     <cc:Agent>\n      <dc:title>Matplotlib v3.3.3, https://matplotlib.org/</dc:title>\n     </cc:Agent>\n    </dc:creator>\n   </cc:Work>\n  </rdf:RDF>\n </metadata>\n <defs>\n  <style type=\"text/css\">*{stroke-linecap:butt;stroke-linejoin:round;}</style>\n </defs>\n <g id=\"figure_1\">\n  <g id=\"patch_1\">\n   <path d=\"M -0 248.518125 \nL 381.65 248.518125 \nL 381.65 0 \nL -0 0 \nz\n\" style=\"fill:none;\"/>\n  </g>\n  <g id=\"axes_1\">\n   <g id=\"patch_2\">\n    <path d=\"M 39.65 224.64 \nL 374.45 224.64 \nL 374.45 7.2 \nL 39.65 7.2 \nz\n\" style=\"fill:#ffffff;\"/>\n   </g>\n   <g id=\"patch_3\">\n    <path clip-path=\"url(#p1857984e13)\" d=\"M 54.868182 224.64 \nL 60.955455 224.64 \nL 60.955455 217.997083 \nL 54.868182 217.997083 \nz\n\" style=\"fill:#1f77b4;\"/>\n   </g>\n   <g id=\"patch_4\">\n    <path clip-path=\"url(#p1857984e13)\" d=\"M 60.955455 224.64 \nL 67.042727 224.64 \nL 67.042727 218.093357 \nL 60.955455 218.093357 \nz\n\" style=\"fill:#1f77b4;\"/>\n   </g>\n   <g id=\"patch_5\">\n    <path clip-path=\"url(#p1857984e13)\" d=\"M 67.042727 224.64 \nL 73.13 224.64 \nL 73.13 224.64 \nL 67.042727 224.64 \nz\n\" style=\"fill:#1f77b4;\"/>\n   </g>\n   <g id=\"patch_6\">\n    <path clip-path=\"url(#p1857984e13)\" d=\"M 73.13 224.64 \nL 79.217273 224.64 \nL 79.217273 224.64 \nL 73.13 224.64 \nz\n\" style=\"fill:#1f77b4;\"/>\n   </g>\n   <g id=\"patch_7\">\n    <path clip-path=\"url(#p1857984e13)\" d=\"M 79.217273 224.64 \nL 85.304545 224.64 \nL 85.304545 224.64 \nL 79.217273 224.64 \nz\n\" style=\"fill:#1f77b4;\"/>\n   </g>\n   <g id=\"patch_8\">\n    <path clip-path=\"url(#p1857984e13)\" d=\"M 85.304545 224.64 \nL 91.391818 224.64 \nL 91.391818 224.64 \nL 85.304545 224.64 \nz\n\" style=\"fill:#1f77b4;\"/>\n   </g>\n   <g id=\"patch_9\">\n    <path clip-path=\"url(#p1857984e13)\" d=\"M 91.391818 224.64 \nL 97.479091 224.64 \nL 97.479091 224.64 \nL 91.391818 224.64 \nz\n\" style=\"fill:#1f77b4;\"/>\n   </g>\n   <g id=\"patch_10\">\n    <path clip-path=\"url(#p1857984e13)\" d=\"M 97.479091 224.64 \nL 103.566364 224.64 \nL 103.566364 224.64 \nL 97.479091 224.64 \nz\n\" style=\"fill:#1f77b4;\"/>\n   </g>\n   <g id=\"patch_11\">\n    <path clip-path=\"url(#p1857984e13)\" d=\"M 103.566364 224.64 \nL 109.653636 224.64 \nL 109.653636 224.64 \nL 103.566364 224.64 \nz\n\" style=\"fill:#1f77b4;\"/>\n   </g>\n   <g id=\"patch_12\">\n    <path clip-path=\"url(#p1857984e13)\" d=\"M 109.653636 224.64 \nL 115.740909 224.64 \nL 115.740909 224.64 \nL 109.653636 224.64 \nz\n\" style=\"fill:#1f77b4;\"/>\n   </g>\n   <g id=\"patch_13\">\n    <path clip-path=\"url(#p1857984e13)\" d=\"M 115.740909 224.64 \nL 121.828182 224.64 \nL 121.828182 221.559227 \nL 115.740909 221.559227 \nz\n\" style=\"fill:#1f77b4;\"/>\n   </g>\n   <g id=\"patch_14\">\n    <path clip-path=\"url(#p1857984e13)\" d=\"M 121.828182 224.64 \nL 127.915455 224.64 \nL 127.915455 218.189631 \nL 121.828182 218.189631 \nz\n\" style=\"fill:#1f77b4;\"/>\n   </g>\n   <g id=\"patch_15\">\n    <path clip-path=\"url(#p1857984e13)\" d=\"M 127.915455 224.64 \nL 134.002727 224.64 \nL 134.002727 224.64 \nL 127.915455 224.64 \nz\n\" style=\"fill:#1f77b4;\"/>\n   </g>\n   <g id=\"patch_16\">\n    <path clip-path=\"url(#p1857984e13)\" d=\"M 134.002727 224.64 \nL 140.09 224.64 \nL 140.09 223.677258 \nL 134.002727 223.677258 \nz\n\" style=\"fill:#1f77b4;\"/>\n   </g>\n   <g id=\"patch_17\">\n    <path clip-path=\"url(#p1857984e13)\" d=\"M 140.09 224.64 \nL 146.177273 224.64 \nL 146.177273 224.64 \nL 140.09 224.64 \nz\n\" style=\"fill:#1f77b4;\"/>\n   </g>\n   <g id=\"patch_18\">\n    <path clip-path=\"url(#p1857984e13)\" d=\"M 146.177273 224.64 \nL 152.264545 224.64 \nL 152.264545 224.64 \nL 146.177273 224.64 \nz\n\" style=\"fill:#1f77b4;\"/>\n   </g>\n   <g id=\"patch_19\">\n    <path clip-path=\"url(#p1857984e13)\" d=\"M 152.264545 224.64 \nL 158.351818 224.64 \nL 158.351818 174.288615 \nL 152.264545 174.288615 \nz\n\" style=\"fill:#1f77b4;\"/>\n   </g>\n   <g id=\"patch_20\">\n    <path clip-path=\"url(#p1857984e13)\" d=\"M 158.351818 224.64 \nL 164.439091 224.64 \nL 164.439091 175.540179 \nL 158.351818 175.540179 \nz\n\" style=\"fill:#1f77b4;\"/>\n   </g>\n   <g id=\"patch_21\">\n    <path clip-path=\"url(#p1857984e13)\" d=\"M 164.439091 224.64 \nL 170.526364 224.64 \nL 170.526364 217.611986 \nL 164.439091 217.611986 \nz\n\" style=\"fill:#1f77b4;\"/>\n   </g>\n   <g id=\"patch_22\">\n    <path clip-path=\"url(#p1857984e13)\" d=\"M 170.526364 224.64 \nL 176.613636 224.64 \nL 176.613636 190.655222 \nL 170.526364 190.655222 \nz\n\" style=\"fill:#1f77b4;\"/>\n   </g>\n   <g id=\"patch_23\">\n    <path clip-path=\"url(#p1857984e13)\" d=\"M 176.613636 224.64 \nL 182.700909 224.64 \nL 182.700909 158.88475 \nL 176.613636 158.88475 \nz\n\" style=\"fill:#1f77b4;\"/>\n   </g>\n   <g id=\"patch_24\">\n    <path clip-path=\"url(#p1857984e13)\" d=\"M 182.700909 224.64 \nL 188.788182 224.64 \nL 188.788182 218.863551 \nL 182.700909 218.863551 \nz\n\" style=\"fill:#1f77b4;\"/>\n   </g>\n   <g id=\"patch_25\">\n    <path clip-path=\"url(#p1857984e13)\" d=\"M 188.788182 224.64 \nL 194.875455 224.64 \nL 194.875455 70.697621 \nL 188.788182 70.697621 \nz\n\" style=\"fill:#1f77b4;\"/>\n   </g>\n   <g id=\"patch_26\">\n    <path clip-path=\"url(#p1857984e13)\" d=\"M 194.875455 224.64 \nL 200.962727 224.64 \nL 200.962727 223.292162 \nL 194.875455 223.292162 \nz\n\" style=\"fill:#1f77b4;\"/>\n   </g>\n   <g id=\"patch_27\">\n    <path clip-path=\"url(#p1857984e13)\" d=\"M 200.962727 224.64 \nL 207.05 224.64 \nL 207.05 223.099613 \nL 200.962727 223.099613 \nz\n\" style=\"fill:#1f77b4;\"/>\n   </g>\n   <g id=\"patch_28\">\n    <path clip-path=\"url(#p1857984e13)\" d=\"M 207.05 224.64 \nL 213.137273 224.64 \nL 213.137273 169.474907 \nL 207.05 169.474907 \nz\n\" style=\"fill:#1f77b4;\"/>\n   </g>\n   <g id=\"patch_29\">\n    <path clip-path=\"url(#p1857984e13)\" d=\"M 213.137273 224.64 \nL 219.224545 224.64 \nL 219.224545 126.729181 \nL 213.137273 126.729181 \nz\n\" style=\"fill:#1f77b4;\"/>\n   </g>\n   <g id=\"patch_30\">\n    <path clip-path=\"url(#p1857984e13)\" d=\"M 219.224545 224.64 \nL 225.311818 224.64 \nL 225.311818 205.962813 \nL 219.224545 205.962813 \nz\n\" style=\"fill:#1f77b4;\"/>\n   </g>\n   <g id=\"patch_31\">\n    <path clip-path=\"url(#p1857984e13)\" d=\"M 225.311818 224.64 \nL 231.399091 224.64 \nL 231.399091 193.254624 \nL 225.311818 193.254624 \nz\n\" style=\"fill:#1f77b4;\"/>\n   </g>\n   <g id=\"patch_32\">\n    <path clip-path=\"url(#p1857984e13)\" d=\"M 231.399091 224.64 \nL 237.486364 224.64 \nL 237.486364 195.661478 \nL 231.399091 195.661478 \nz\n\" style=\"fill:#1f77b4;\"/>\n   </g>\n   <g id=\"patch_33\">\n    <path clip-path=\"url(#p1857984e13)\" d=\"M 237.486364 224.64 \nL 243.573636 224.64 \nL 243.573636 73.104475 \nL 237.486364 73.104475 \nz\n\" style=\"fill:#1f77b4;\"/>\n   </g>\n   <g id=\"patch_34\">\n    <path clip-path=\"url(#p1857984e13)\" d=\"M 243.573636 224.64 \nL 249.660909 224.64 \nL 249.660909 159.462395 \nL 243.573636 159.462395 \nz\n\" style=\"fill:#1f77b4;\"/>\n   </g>\n   <g id=\"patch_35\">\n    <path clip-path=\"url(#p1857984e13)\" d=\"M 249.660909 224.64 \nL 255.748182 224.64 \nL 255.748182 206.829281 \nL 249.660909 206.829281 \nz\n\" style=\"fill:#1f77b4;\"/>\n   </g>\n   <g id=\"patch_36\">\n    <path clip-path=\"url(#p1857984e13)\" d=\"M 255.748182 224.64 \nL 261.835455 224.64 \nL 261.835455 67.039203 \nL 255.748182 67.039203 \nz\n\" style=\"fill:#1f77b4;\"/>\n   </g>\n   <g id=\"patch_37\">\n    <path clip-path=\"url(#p1857984e13)\" d=\"M 261.835455 224.64 \nL 267.922727 224.64 \nL 267.922727 111.42159 \nL 261.835455 111.42159 \nz\n\" style=\"fill:#1f77b4;\"/>\n   </g>\n   <g id=\"patch_38\">\n    <path clip-path=\"url(#p1857984e13)\" d=\"M 267.922727 224.64 \nL 274.01 224.64 \nL 274.01 210.680247 \nL 267.922727 210.680247 \nz\n\" style=\"fill:#1f77b4;\"/>\n   </g>\n   <g id=\"patch_39\">\n    <path clip-path=\"url(#p1857984e13)\" d=\"M 274.01 224.64 \nL 280.097273 224.64 \nL 280.097273 17.554286 \nL 274.01 17.554286 \nz\n\" style=\"fill:#1f77b4;\"/>\n   </g>\n   <g id=\"patch_40\">\n    <path clip-path=\"url(#p1857984e13)\" d=\"M 280.097273 224.64 \nL 286.184545 224.64 \nL 286.184545 141.170305 \nL 280.097273 141.170305 \nz\n\" style=\"fill:#1f77b4;\"/>\n   </g>\n   <g id=\"patch_41\">\n    <path clip-path=\"url(#p1857984e13)\" d=\"M 286.184545 224.64 \nL 292.271818 224.64 \nL 292.271818 155.611429 \nL 286.184545 155.611429 \nz\n\" style=\"fill:#1f77b4;\"/>\n   </g>\n   <g id=\"patch_42\">\n    <path clip-path=\"url(#p1857984e13)\" d=\"M 292.271818 224.64 \nL 298.359091 224.64 \nL 298.359091 157.344363 \nL 292.271818 157.344363 \nz\n\" style=\"fill:#1f77b4;\"/>\n   </g>\n   <g id=\"patch_43\">\n    <path clip-path=\"url(#p1857984e13)\" d=\"M 298.359091 224.64 \nL 304.446364 224.64 \nL 304.446364 20.827607 \nL 298.359091 20.827607 \nz\n\" style=\"fill:#1f77b4;\"/>\n   </g>\n   <g id=\"patch_44\">\n    <path clip-path=\"url(#p1857984e13)\" d=\"M 304.446364 224.64 \nL 310.533636 224.64 \nL 310.533636 36.712843 \nL 304.446364 36.712843 \nz\n\" style=\"fill:#1f77b4;\"/>\n   </g>\n   <g id=\"patch_45\">\n    <path clip-path=\"url(#p1857984e13)\" d=\"M 310.533636 224.64 \nL 316.620909 224.64 \nL 316.620909 163.698458 \nL 310.533636 163.698458 \nz\n\" style=\"fill:#1f77b4;\"/>\n   </g>\n   <g id=\"patch_46\">\n    <path clip-path=\"url(#p1857984e13)\" d=\"M 316.620909 224.64 \nL 322.708182 224.64 \nL 322.708182 111.902961 \nL 316.620909 111.902961 \nz\n\" style=\"fill:#1f77b4;\"/>\n   </g>\n   <g id=\"patch_47\">\n    <path clip-path=\"url(#p1857984e13)\" d=\"M 322.708182 224.64 \nL 328.795455 224.64 \nL 328.795455 212.509456 \nL 322.708182 212.509456 \nz\n\" style=\"fill:#1f77b4;\"/>\n   </g>\n   <g id=\"patch_48\">\n    <path clip-path=\"url(#p1857984e13)\" d=\"M 328.795455 224.64 \nL 334.882727 224.64 \nL 334.882727 224.447452 \nL 328.795455 224.447452 \nz\n\" style=\"fill:#1f77b4;\"/>\n   </g>\n   <g id=\"patch_49\">\n    <path clip-path=\"url(#p1857984e13)\" d=\"M 334.882727 224.64 \nL 340.97 224.64 \nL 340.97 224.64 \nL 334.882727 224.64 \nz\n\" style=\"fill:#1f77b4;\"/>\n   </g>\n   <g id=\"patch_50\">\n    <path clip-path=\"url(#p1857984e13)\" d=\"M 340.97 224.64 \nL 347.057273 224.64 \nL 347.057273 221.077856 \nL 340.97 221.077856 \nz\n\" style=\"fill:#1f77b4;\"/>\n   </g>\n   <g id=\"patch_51\">\n    <path clip-path=\"url(#p1857984e13)\" d=\"M 347.057273 224.64 \nL 353.144545 224.64 \nL 353.144545 203.074589 \nL 347.057273 203.074589 \nz\n\" style=\"fill:#1f77b4;\"/>\n   </g>\n   <g id=\"patch_52\">\n    <path clip-path=\"url(#p1857984e13)\" d=\"M 353.144545 224.64 \nL 359.231818 224.64 \nL 359.231818 224.158629 \nL 353.144545 224.158629 \nz\n\" style=\"fill:#1f77b4;\"/>\n   </g>\n   <g id=\"matplotlib.axis_1\">\n    <g id=\"xtick_1\">\n     <g id=\"line2d_1\">\n      <defs>\n       <path d=\"M 0 0 \nL 0 3.5 \n\" id=\"ma98f3edab0\" style=\"stroke:#000000;stroke-width:0.8;\"/>\n      </defs>\n      <g>\n       <use style=\"stroke:#000000;stroke-width:0.8;\" x=\"45.232834\" xlink:href=\"#ma98f3edab0\" y=\"224.64\"/>\n      </g>\n     </g>\n     <g id=\"text_1\">\n      <!-- 48 -->\n      <g transform=\"translate(38.870334 239.238437)scale(0.1 -0.1)\">\n       <defs>\n        <path d=\"M 37.796875 64.3125 \nL 12.890625 25.390625 \nL 37.796875 25.390625 \nz\nM 35.203125 72.90625 \nL 47.609375 72.90625 \nL 47.609375 25.390625 \nL 58.015625 25.390625 \nL 58.015625 17.1875 \nL 47.609375 17.1875 \nL 47.609375 0 \nL 37.796875 0 \nL 37.796875 17.1875 \nL 4.890625 17.1875 \nL 4.890625 26.703125 \nz\n\" id=\"DejaVuSans-52\"/>\n        <path d=\"M 31.78125 34.625 \nQ 24.75 34.625 20.71875 30.859375 \nQ 16.703125 27.09375 16.703125 20.515625 \nQ 16.703125 13.921875 20.71875 10.15625 \nQ 24.75 6.390625 31.78125 6.390625 \nQ 38.8125 6.390625 42.859375 10.171875 \nQ 46.921875 13.96875 46.921875 20.515625 \nQ 46.921875 27.09375 42.890625 30.859375 \nQ 38.875 34.625 31.78125 34.625 \nz\nM 21.921875 38.8125 \nQ 15.578125 40.375 12.03125 44.71875 \nQ 8.5 49.078125 8.5 55.328125 \nQ 8.5 64.0625 14.71875 69.140625 \nQ 20.953125 74.21875 31.78125 74.21875 \nQ 42.671875 74.21875 48.875 69.140625 \nQ 55.078125 64.0625 55.078125 55.328125 \nQ 55.078125 49.078125 51.53125 44.71875 \nQ 48 40.375 41.703125 38.8125 \nQ 48.828125 37.15625 52.796875 32.3125 \nQ 56.78125 27.484375 56.78125 20.515625 \nQ 56.78125 9.90625 50.3125 4.234375 \nQ 43.84375 -1.421875 31.78125 -1.421875 \nQ 19.734375 -1.421875 13.25 4.234375 \nQ 6.78125 9.90625 6.78125 20.515625 \nQ 6.78125 27.484375 10.78125 32.3125 \nQ 14.796875 37.15625 21.921875 38.8125 \nz\nM 18.3125 54.390625 \nQ 18.3125 48.734375 21.84375 45.5625 \nQ 25.390625 42.390625 31.78125 42.390625 \nQ 38.140625 42.390625 41.71875 45.5625 \nQ 45.3125 48.734375 45.3125 54.390625 \nQ 45.3125 60.0625 41.71875 63.234375 \nQ 38.140625 66.40625 31.78125 66.40625 \nQ 25.390625 66.40625 21.84375 63.234375 \nQ 18.3125 60.0625 18.3125 54.390625 \nz\n\" id=\"DejaVuSans-56\"/>\n       </defs>\n       <use xlink:href=\"#DejaVuSans-52\"/>\n       <use x=\"63.623047\" xlink:href=\"#DejaVuSans-56\"/>\n      </g>\n     </g>\n    </g>\n    <g id=\"xtick_2\">\n     <g id=\"line2d_2\">\n      <g>\n       <use style=\"stroke:#000000;stroke-width:0.8;\" x=\"101.911351\" xlink:href=\"#ma98f3edab0\" y=\"224.64\"/>\n      </g>\n     </g>\n     <g id=\"text_2\">\n      <!-- 49 -->\n      <g transform=\"translate(95.548851 239.238437)scale(0.1 -0.1)\">\n       <defs>\n        <path d=\"M 10.984375 1.515625 \nL 10.984375 10.5 \nQ 14.703125 8.734375 18.5 7.8125 \nQ 22.3125 6.890625 25.984375 6.890625 \nQ 35.75 6.890625 40.890625 13.453125 \nQ 46.046875 20.015625 46.78125 33.40625 \nQ 43.953125 29.203125 39.59375 26.953125 \nQ 35.25 24.703125 29.984375 24.703125 \nQ 19.046875 24.703125 12.671875 31.3125 \nQ 6.296875 37.9375 6.296875 49.421875 \nQ 6.296875 60.640625 12.9375 67.421875 \nQ 19.578125 74.21875 30.609375 74.21875 \nQ 43.265625 74.21875 49.921875 64.515625 \nQ 56.59375 54.828125 56.59375 36.375 \nQ 56.59375 19.140625 48.40625 8.859375 \nQ 40.234375 -1.421875 26.421875 -1.421875 \nQ 22.703125 -1.421875 18.890625 -0.6875 \nQ 15.09375 0.046875 10.984375 1.515625 \nz\nM 30.609375 32.421875 \nQ 37.25 32.421875 41.125 36.953125 \nQ 45.015625 41.5 45.015625 49.421875 \nQ 45.015625 57.28125 41.125 61.84375 \nQ 37.25 66.40625 30.609375 66.40625 \nQ 23.96875 66.40625 20.09375 61.84375 \nQ 16.21875 57.28125 16.21875 49.421875 \nQ 16.21875 41.5 20.09375 36.953125 \nQ 23.96875 32.421875 30.609375 32.421875 \nz\n\" id=\"DejaVuSans-57\"/>\n       </defs>\n       <use xlink:href=\"#DejaVuSans-52\"/>\n       <use x=\"63.623047\" xlink:href=\"#DejaVuSans-57\"/>\n      </g>\n     </g>\n    </g>\n    <g id=\"xtick_3\">\n     <g id=\"line2d_3\">\n      <g>\n       <use style=\"stroke:#000000;stroke-width:0.8;\" x=\"158.589868\" xlink:href=\"#ma98f3edab0\" y=\"224.64\"/>\n      </g>\n     </g>\n     <g id=\"text_3\">\n      <!-- 50 -->\n      <g transform=\"translate(152.227368 239.238437)scale(0.1 -0.1)\">\n       <defs>\n        <path d=\"M 10.796875 72.90625 \nL 49.515625 72.90625 \nL 49.515625 64.59375 \nL 19.828125 64.59375 \nL 19.828125 46.734375 \nQ 21.96875 47.46875 24.109375 47.828125 \nQ 26.265625 48.1875 28.421875 48.1875 \nQ 40.625 48.1875 47.75 41.5 \nQ 54.890625 34.8125 54.890625 23.390625 \nQ 54.890625 11.625 47.5625 5.09375 \nQ 40.234375 -1.421875 26.90625 -1.421875 \nQ 22.3125 -1.421875 17.546875 -0.640625 \nQ 12.796875 0.140625 7.71875 1.703125 \nL 7.71875 11.625 \nQ 12.109375 9.234375 16.796875 8.0625 \nQ 21.484375 6.890625 26.703125 6.890625 \nQ 35.15625 6.890625 40.078125 11.328125 \nQ 45.015625 15.765625 45.015625 23.390625 \nQ 45.015625 31 40.078125 35.4375 \nQ 35.15625 39.890625 26.703125 39.890625 \nQ 22.75 39.890625 18.8125 39.015625 \nQ 14.890625 38.140625 10.796875 36.28125 \nz\n\" id=\"DejaVuSans-53\"/>\n        <path d=\"M 31.78125 66.40625 \nQ 24.171875 66.40625 20.328125 58.90625 \nQ 16.5 51.421875 16.5 36.375 \nQ 16.5 21.390625 20.328125 13.890625 \nQ 24.171875 6.390625 31.78125 6.390625 \nQ 39.453125 6.390625 43.28125 13.890625 \nQ 47.125 21.390625 47.125 36.375 \nQ 47.125 51.421875 43.28125 58.90625 \nQ 39.453125 66.40625 31.78125 66.40625 \nz\nM 31.78125 74.21875 \nQ 44.046875 74.21875 50.515625 64.515625 \nQ 56.984375 54.828125 56.984375 36.375 \nQ 56.984375 17.96875 50.515625 8.265625 \nQ 44.046875 -1.421875 31.78125 -1.421875 \nQ 19.53125 -1.421875 13.0625 8.265625 \nQ 6.59375 17.96875 6.59375 36.375 \nQ 6.59375 54.828125 13.0625 64.515625 \nQ 19.53125 74.21875 31.78125 74.21875 \nz\n\" id=\"DejaVuSans-48\"/>\n       </defs>\n       <use xlink:href=\"#DejaVuSans-53\"/>\n       <use x=\"63.623047\" xlink:href=\"#DejaVuSans-48\"/>\n      </g>\n     </g>\n    </g>\n    <g id=\"xtick_4\">\n     <g id=\"line2d_4\">\n      <g>\n       <use style=\"stroke:#000000;stroke-width:0.8;\" x=\"215.268385\" xlink:href=\"#ma98f3edab0\" y=\"224.64\"/>\n      </g>\n     </g>\n     <g id=\"text_4\">\n      <!-- 51 -->\n      <g transform=\"translate(208.905885 239.238437)scale(0.1 -0.1)\">\n       <defs>\n        <path d=\"M 12.40625 8.296875 \nL 28.515625 8.296875 \nL 28.515625 63.921875 \nL 10.984375 60.40625 \nL 10.984375 69.390625 \nL 28.421875 72.90625 \nL 38.28125 72.90625 \nL 38.28125 8.296875 \nL 54.390625 8.296875 \nL 54.390625 0 \nL 12.40625 0 \nz\n\" id=\"DejaVuSans-49\"/>\n       </defs>\n       <use xlink:href=\"#DejaVuSans-53\"/>\n       <use x=\"63.623047\" xlink:href=\"#DejaVuSans-49\"/>\n      </g>\n     </g>\n    </g>\n    <g id=\"xtick_5\">\n     <g id=\"line2d_5\">\n      <g>\n       <use style=\"stroke:#000000;stroke-width:0.8;\" x=\"271.946902\" xlink:href=\"#ma98f3edab0\" y=\"224.64\"/>\n      </g>\n     </g>\n     <g id=\"text_5\">\n      <!-- 52 -->\n      <g transform=\"translate(265.584402 239.238437)scale(0.1 -0.1)\">\n       <defs>\n        <path d=\"M 19.1875 8.296875 \nL 53.609375 8.296875 \nL 53.609375 0 \nL 7.328125 0 \nL 7.328125 8.296875 \nQ 12.9375 14.109375 22.625 23.890625 \nQ 32.328125 33.6875 34.8125 36.53125 \nQ 39.546875 41.84375 41.421875 45.53125 \nQ 43.3125 49.21875 43.3125 52.78125 \nQ 43.3125 58.59375 39.234375 62.25 \nQ 35.15625 65.921875 28.609375 65.921875 \nQ 23.96875 65.921875 18.8125 64.3125 \nQ 13.671875 62.703125 7.8125 59.421875 \nL 7.8125 69.390625 \nQ 13.765625 71.78125 18.9375 73 \nQ 24.125 74.21875 28.421875 74.21875 \nQ 39.75 74.21875 46.484375 68.546875 \nQ 53.21875 62.890625 53.21875 53.421875 \nQ 53.21875 48.921875 51.53125 44.890625 \nQ 49.859375 40.875 45.40625 35.40625 \nQ 44.1875 33.984375 37.640625 27.21875 \nQ 31.109375 20.453125 19.1875 8.296875 \nz\n\" id=\"DejaVuSans-50\"/>\n       </defs>\n       <use xlink:href=\"#DejaVuSans-53\"/>\n       <use x=\"63.623047\" xlink:href=\"#DejaVuSans-50\"/>\n      </g>\n     </g>\n    </g>\n    <g id=\"xtick_6\">\n     <g id=\"line2d_6\">\n      <g>\n       <use style=\"stroke:#000000;stroke-width:0.8;\" x=\"328.625419\" xlink:href=\"#ma98f3edab0\" y=\"224.64\"/>\n      </g>\n     </g>\n     <g id=\"text_6\">\n      <!-- 53 -->\n      <g transform=\"translate(322.262919 239.238437)scale(0.1 -0.1)\">\n       <defs>\n        <path d=\"M 40.578125 39.3125 \nQ 47.65625 37.796875 51.625 33 \nQ 55.609375 28.21875 55.609375 21.1875 \nQ 55.609375 10.40625 48.1875 4.484375 \nQ 40.765625 -1.421875 27.09375 -1.421875 \nQ 22.515625 -1.421875 17.65625 -0.515625 \nQ 12.796875 0.390625 7.625 2.203125 \nL 7.625 11.71875 \nQ 11.71875 9.328125 16.59375 8.109375 \nQ 21.484375 6.890625 26.8125 6.890625 \nQ 36.078125 6.890625 40.9375 10.546875 \nQ 45.796875 14.203125 45.796875 21.1875 \nQ 45.796875 27.640625 41.28125 31.265625 \nQ 36.765625 34.90625 28.71875 34.90625 \nL 20.21875 34.90625 \nL 20.21875 43.015625 \nL 29.109375 43.015625 \nQ 36.375 43.015625 40.234375 45.921875 \nQ 44.09375 48.828125 44.09375 54.296875 \nQ 44.09375 59.90625 40.109375 62.90625 \nQ 36.140625 65.921875 28.71875 65.921875 \nQ 24.65625 65.921875 20.015625 65.03125 \nQ 15.375 64.15625 9.8125 62.3125 \nL 9.8125 71.09375 \nQ 15.4375 72.65625 20.34375 73.4375 \nQ 25.25 74.21875 29.59375 74.21875 \nQ 40.828125 74.21875 47.359375 69.109375 \nQ 53.90625 64.015625 53.90625 55.328125 \nQ 53.90625 49.265625 50.4375 45.09375 \nQ 46.96875 40.921875 40.578125 39.3125 \nz\n\" id=\"DejaVuSans-51\"/>\n       </defs>\n       <use xlink:href=\"#DejaVuSans-53\"/>\n       <use x=\"63.623047\" xlink:href=\"#DejaVuSans-51\"/>\n      </g>\n     </g>\n    </g>\n   </g>\n   <g id=\"matplotlib.axis_2\">\n    <g id=\"ytick_1\">\n     <g id=\"line2d_7\">\n      <defs>\n       <path d=\"M 0 0 \nL -3.5 0 \n\" id=\"ma2636e5fca\" style=\"stroke:#000000;stroke-width:0.8;\"/>\n      </defs>\n      <g>\n       <use style=\"stroke:#000000;stroke-width:0.8;\" x=\"39.65\" xlink:href=\"#ma2636e5fca\" y=\"224.64\"/>\n      </g>\n     </g>\n     <g id=\"text_7\">\n      <!-- 0 -->\n      <g transform=\"translate(26.2875 228.439219)scale(0.1 -0.1)\">\n       <use xlink:href=\"#DejaVuSans-48\"/>\n      </g>\n     </g>\n    </g>\n    <g id=\"ytick_2\">\n     <g id=\"line2d_8\">\n      <g>\n       <use style=\"stroke:#000000;stroke-width:0.8;\" x=\"39.65\" xlink:href=\"#ma2636e5fca\" y=\"176.502921\"/>\n      </g>\n     </g>\n     <g id=\"text_8\">\n      <!-- 500 -->\n      <g transform=\"translate(13.5625 180.30214)scale(0.1 -0.1)\">\n       <use xlink:href=\"#DejaVuSans-53\"/>\n       <use x=\"63.623047\" xlink:href=\"#DejaVuSans-48\"/>\n       <use x=\"127.246094\" xlink:href=\"#DejaVuSans-48\"/>\n      </g>\n     </g>\n    </g>\n    <g id=\"ytick_3\">\n     <g id=\"line2d_9\">\n      <g>\n       <use style=\"stroke:#000000;stroke-width:0.8;\" x=\"39.65\" xlink:href=\"#ma2636e5fca\" y=\"128.365842\"/>\n      </g>\n     </g>\n     <g id=\"text_9\">\n      <!-- 1000 -->\n      <g transform=\"translate(7.2 132.165061)scale(0.1 -0.1)\">\n       <use xlink:href=\"#DejaVuSans-49\"/>\n       <use x=\"63.623047\" xlink:href=\"#DejaVuSans-48\"/>\n       <use x=\"127.246094\" xlink:href=\"#DejaVuSans-48\"/>\n       <use x=\"190.869141\" xlink:href=\"#DejaVuSans-48\"/>\n      </g>\n     </g>\n    </g>\n    <g id=\"ytick_4\">\n     <g id=\"line2d_10\">\n      <g>\n       <use style=\"stroke:#000000;stroke-width:0.8;\" x=\"39.65\" xlink:href=\"#ma2636e5fca\" y=\"80.228763\"/>\n      </g>\n     </g>\n     <g id=\"text_10\">\n      <!-- 1500 -->\n      <g transform=\"translate(7.2 84.027981)scale(0.1 -0.1)\">\n       <use xlink:href=\"#DejaVuSans-49\"/>\n       <use x=\"63.623047\" xlink:href=\"#DejaVuSans-53\"/>\n       <use x=\"127.246094\" xlink:href=\"#DejaVuSans-48\"/>\n       <use x=\"190.869141\" xlink:href=\"#DejaVuSans-48\"/>\n      </g>\n     </g>\n    </g>\n    <g id=\"ytick_5\">\n     <g id=\"line2d_11\">\n      <g>\n       <use style=\"stroke:#000000;stroke-width:0.8;\" x=\"39.65\" xlink:href=\"#ma2636e5fca\" y=\"32.091684\"/>\n      </g>\n     </g>\n     <g id=\"text_11\">\n      <!-- 2000 -->\n      <g transform=\"translate(7.2 35.890902)scale(0.1 -0.1)\">\n       <use xlink:href=\"#DejaVuSans-50\"/>\n       <use x=\"63.623047\" xlink:href=\"#DejaVuSans-48\"/>\n       <use x=\"127.246094\" xlink:href=\"#DejaVuSans-48\"/>\n       <use x=\"190.869141\" xlink:href=\"#DejaVuSans-48\"/>\n      </g>\n     </g>\n    </g>\n   </g>\n   <g id=\"patch_53\">\n    <path d=\"M 39.65 224.64 \nL 39.65 7.2 \n\" style=\"fill:none;stroke:#000000;stroke-linecap:square;stroke-linejoin:miter;stroke-width:0.8;\"/>\n   </g>\n   <g id=\"patch_54\">\n    <path d=\"M 374.45 224.64 \nL 374.45 7.2 \n\" style=\"fill:none;stroke:#000000;stroke-linecap:square;stroke-linejoin:miter;stroke-width:0.8;\"/>\n   </g>\n   <g id=\"patch_55\">\n    <path d=\"M 39.65 224.64 \nL 374.45 224.64 \n\" style=\"fill:none;stroke:#000000;stroke-linecap:square;stroke-linejoin:miter;stroke-width:0.8;\"/>\n   </g>\n   <g id=\"patch_56\">\n    <path d=\"M 39.65 7.2 \nL 374.45 7.2 \n\" style=\"fill:none;stroke:#000000;stroke-linecap:square;stroke-linejoin:miter;stroke-width:0.8;\"/>\n   </g>\n  </g>\n </g>\n <defs>\n  <clipPath id=\"p1857984e13\">\n   <rect height=\"217.44\" width=\"334.8\" x=\"39.65\" y=\"7.2\"/>\n  </clipPath>\n </defs>\n</svg>\n",
      "image/png": "[encoded data removed]"
     },
     "metadata": {
      "needs_background": "light"
     }
    }
   ],
   "source": []
  }
 ]
}