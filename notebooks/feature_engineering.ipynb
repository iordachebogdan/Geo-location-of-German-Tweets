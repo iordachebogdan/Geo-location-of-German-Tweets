{
 "metadata": {
  "language_info": {
   "codemirror_mode": {
    "name": "ipython",
    "version": 3
   },
   "file_extension": ".py",
   "mimetype": "text/x-python",
   "name": "python",
   "nbconvert_exporter": "python",
   "pygments_lexer": "ipython3",
   "version": "3.8.5-final"
  },
  "orig_nbformat": 2,
  "kernelspec": {
   "name": "python3",
   "display_name": "Python 3",
   "language": "python"
  }
 },
 "nbformat": 4,
 "nbformat_minor": 2,
 "cells": [
  {
   "cell_type": "code",
   "execution_count": 1,
   "metadata": {},
   "outputs": [
    {
     "output_type": "execute_result",
     "data": {
      "text/plain": [
       "       id        lat       long  \\\n",
       "0  119165  51.810067  10.191331   \n",
       "1  100377  51.918188  10.599245   \n",
       "2  109550  52.711074   9.987374   \n",
       "3  111440  52.386711  11.700612   \n",
       "4  116670  52.314631   9.701835   \n",
       "\n",
       "                                                text  \n",
       "0  Seit d Vase: \"Wenn ich kaputt gang, bringt das...  \n",
       "1  Haha bin au w isch der amig au so richtig lang...  \n",
       "2  isch d hiltl dachterrasse amne samstig viel bs...  \n",
       "3  Ich fühle mich wie die Weimarer Republik... .....  \n",
       "4  Eui liebschte Lunchidee zum Mitneh? 😬 En Grill...  "
      ],
      "text/html": "<div>\n<style scoped>\n    .dataframe tbody tr th:only-of-type {\n        vertical-align: middle;\n    }\n\n    .dataframe tbody tr th {\n        vertical-align: top;\n    }\n\n    .dataframe thead th {\n        text-align: right;\n    }\n</style>\n<table border=\"1\" class=\"dataframe\">\n  <thead>\n    <tr style=\"text-align: right;\">\n      <th></th>\n      <th>id</th>\n      <th>lat</th>\n      <th>long</th>\n      <th>text</th>\n    </tr>\n  </thead>\n  <tbody>\n    <tr>\n      <th>0</th>\n      <td>119165</td>\n      <td>51.810067</td>\n      <td>10.191331</td>\n      <td>Seit d Vase: \"Wenn ich kaputt gang, bringt das...</td>\n    </tr>\n    <tr>\n      <th>1</th>\n      <td>100377</td>\n      <td>51.918188</td>\n      <td>10.599245</td>\n      <td>Haha bin au w isch der amig au so richtig lang...</td>\n    </tr>\n    <tr>\n      <th>2</th>\n      <td>109550</td>\n      <td>52.711074</td>\n      <td>9.987374</td>\n      <td>isch d hiltl dachterrasse amne samstig viel bs...</td>\n    </tr>\n    <tr>\n      <th>3</th>\n      <td>111440</td>\n      <td>52.386711</td>\n      <td>11.700612</td>\n      <td>Ich fühle mich wie die Weimarer Republik... .....</td>\n    </tr>\n    <tr>\n      <th>4</th>\n      <td>116670</td>\n      <td>52.314631</td>\n      <td>9.701835</td>\n      <td>Eui liebschte Lunchidee zum Mitneh? 😬 En Grill...</td>\n    </tr>\n  </tbody>\n</table>\n</div>"
     },
     "metadata": {},
     "execution_count": 1
    }
   ],
   "source": [
    "import pandas as pd\n",
    "\n",
    "COLS = [\"id\", \"lat\", \"long\", \"text\"]\n",
    "df_train = pd.read_csv(\"../data/training.txt\", names=COLS)\n",
    "df_val = pd.read_csv(\"../data/validation.txt\", names=COLS)\n",
    "\n",
    "df_train.head()"
   ]
  },
  {
   "cell_type": "code",
   "execution_count": 4,
   "metadata": {},
   "outputs": [
    {
     "output_type": "execute_result",
     "data": {
      "text/plain": [
       "['#aa', '#bb', '#cc']"
      ]
     },
     "metadata": {},
     "execution_count": 4
    }
   ],
   "source": [
    "import re\n",
    "\n",
    "re.findall(r\"#\\w+\", \"bla #aa bla #bb #cc\")"
   ]
  },
  {
   "cell_type": "code",
   "execution_count": 5,
   "metadata": {},
   "outputs": [],
   "source": [
    "from collections import Counter\n",
    "\n",
    "cnt = Counter()\n",
    "for text in df_train.text:\n",
    "    for htag in re.findall(r\"#\\w+\", text):\n",
    "        cnt[htag] += 1"
   ]
  },
  {
   "cell_type": "code",
   "execution_count": 10,
   "metadata": {},
   "outputs": [
    {
     "output_type": "execute_result",
     "data": {
      "text/plain": [
       "78"
      ]
     },
     "metadata": {},
     "execution_count": 10
    }
   ],
   "source": [
    "all_hashtags = [k for k in cnt if cnt[k] >= 5]\n",
    "len(all_hashtags)"
   ]
  },
  {
   "cell_type": "code",
   "execution_count": 11,
   "metadata": {},
   "outputs": [],
   "source": [
    "cnt = Counter()\n",
    "for text in df_train.text:\n",
    "    for ment in re.findall(r\"@\\w+\", text):\n",
    "        cnt[ment] += 1"
   ]
  },
  {
   "cell_type": "code",
   "execution_count": 16,
   "metadata": {},
   "outputs": [
    {
     "output_type": "execute_result",
     "data": {
      "text/plain": [
       "24"
      ]
     },
     "metadata": {},
     "execution_count": 16
    }
   ],
   "source": [
    "all_ment = [k for k in cnt if cnt[k] >= 5]\n",
    "len(all_ment)"
   ]
  },
  {
   "cell_type": "code",
   "execution_count": 17,
   "metadata": {},
   "outputs": [],
   "source": [
    "import spacy\n",
    "\n",
    "nlp = spacy.load(\"de_core_news_lg\")"
   ]
  },
  {
   "cell_type": "code",
   "execution_count": 19,
   "metadata": {},
   "outputs": [
    {
     "output_type": "stream",
     "name": "stderr",
     "text": [
      "100%|██████████| 22583/22583 [05:34<00:00, 67.50it/s]\n"
     ]
    }
   ],
   "source": [
    "from tqdm import tqdm\n",
    "\n",
    "cnt = Counter()\n",
    "for text in tqdm(df_train.text):\n",
    "    doc = nlp(text)\n",
    "    for ent in doc.ents:\n",
    "        cnt[ent.text.lower()] += 1"
   ]
  },
  {
   "cell_type": "code",
   "execution_count": 30,
   "metadata": {},
   "outputs": [],
   "source": [
    "cnt_ent = cnt"
   ]
  },
  {
   "cell_type": "code",
   "execution_count": 32,
   "metadata": {},
   "outputs": [
    {
     "output_type": "execute_result",
     "data": {
      "text/plain": [
       "344"
      ]
     },
     "metadata": {},
     "execution_count": 32
    }
   ],
   "source": [
    "all_ent = [k for k in cnt if cnt[k] >= 20]\n",
    "len(all_ent)"
   ]
  },
  {
   "cell_type": "code",
   "execution_count": 71,
   "metadata": {},
   "outputs": [],
   "source": [
    "def basic_clean(text):\n",
    "    text = re.sub(r\"@[a-zA-Z0-9äöüÄÖÜß]+\", \" \", text)\n",
    "    text = re.sub(r\"#[a-zA-Z0-9äöüÄÖÜß]+\", \" \", text)\n",
    "    text = re.sub(r\"https?://[^ ]+\", \" \", text)\n",
    "    text = re.sub(r\"www.[^ ]+\", \" \", text)\n",
    "    text = re.sub(r\"[^a-zA-ZäöüÄÖÜß]\", \" \", text)\n",
    "    text = re.sub(\" +\", \" \", text)\n",
    "    text = text.lower()\n",
    "    return text.strip()"
   ]
  },
  {
   "cell_type": "code",
   "execution_count": 76,
   "metadata": {},
   "outputs": [],
   "source": [
    "from collections import defaultdict\n",
    "\n",
    "word_coords = defaultdict(list)\n",
    "\n",
    "for text, lat, long in zip(df_train.text, df_train.lat, df_train.long):\n",
    "    text = basic_clean(text)\n",
    "    for word in set(text.split(' ')):\n",
    "        word_coords[word].append((lat, long))"
   ]
  },
  {
   "cell_type": "code",
   "execution_count": 77,
   "metadata": {},
   "outputs": [],
   "source": [
    "def mean_2d(v):\n",
    "    sum_0 = sum(x for x, _ in v)\n",
    "    sum_1 = sum(y for _, y in v)\n",
    "    return (sum_0 / len(v), sum_1 / len(v))"
   ]
  },
  {
   "cell_type": "code",
   "execution_count": 78,
   "metadata": {},
   "outputs": [],
   "source": [
    "def l1_norm_2d(x):\n",
    "    return abs(x[0]) + abs(x[1])"
   ]
  },
  {
   "cell_type": "code",
   "execution_count": 79,
   "metadata": {},
   "outputs": [],
   "source": [
    "def unbiased_variance_2d(v):\n",
    "    x_mean = mean_2d(v)\n",
    "    sum = 0\n",
    "    for x in v:\n",
    "        sum += l1_norm_2d((x[0] - x_mean[0], x[1] - x_mean[1])) ** 2\n",
    "    sum /= len(v) - 1\n",
    "    return sum"
   ]
  },
  {
   "cell_type": "code",
   "execution_count": 80,
   "metadata": {},
   "outputs": [],
   "source": [
    "word_stats = []\n",
    "\n",
    "for word, coords in word_coords.items():\n",
    "    if len(coords) < 2:\n",
    "        continue\n",
    "    var = unbiased_variance_2d(coords)\n",
    "    word_stats.append((word, var, len(coords)))"
   ]
  },
  {
   "cell_type": "code",
   "execution_count": 81,
   "metadata": {},
   "outputs": [],
   "source": [
    "sorted_word_stats = sorted(word_stats, key=lambda x: (x[1], -x[2]))"
   ]
  },
  {
   "cell_type": "code",
   "execution_count": 116,
   "metadata": {},
   "outputs": [],
   "source": [
    "filtered_word_stats = [x for x in sorted_word_stats if x[2] >= 5 and x[1] <= 2]"
   ]
  },
  {
   "cell_type": "code",
   "execution_count": 121,
   "metadata": {},
   "outputs": [
    {
     "output_type": "execute_result",
     "data": {
      "text/plain": [
       "2984"
      ]
     },
     "metadata": {},
     "execution_count": 121
    }
   ],
   "source": [
    "len(filtered_word_stats)"
   ]
  },
  {
   "cell_type": "code",
   "execution_count": 122,
   "metadata": {},
   "outputs": [],
   "source": [
    "all_location_words = [x[0] for x in filtered_word_stats]"
   ]
  },
  {
   "cell_type": "code",
   "execution_count": 123,
   "metadata": {},
   "outputs": [],
   "source": [
    "idx = 0\n",
    "hashtags_idx = {}\n",
    "for htag in all_hashtags:\n",
    "    hashtags_idx[htag] = idx\n",
    "    idx += 1\n",
    "ment_idx = {}\n",
    "for ment in all_ment:\n",
    "    ment_idx[ment] = idx\n",
    "    idx += 1\n",
    "ent_idx = {}\n",
    "for ent in all_ent:\n",
    "    ent_idx[ent] = idx\n",
    "    idx += 1\n",
    "word_idx = {}\n",
    "for word in all_location_words:\n",
    "    word_idx[word] = idx\n",
    "    idx += 1"
   ]
  },
  {
   "cell_type": "code",
   "execution_count": 124,
   "metadata": {},
   "outputs": [
    {
     "output_type": "execute_result",
     "data": {
      "text/plain": [
       "3430"
      ]
     },
     "metadata": {},
     "execution_count": 124
    }
   ],
   "source": [
    "feat_size = idx\n",
    "feat_size"
   ]
  },
  {
   "cell_type": "code",
   "execution_count": 125,
   "metadata": {},
   "outputs": [],
   "source": [
    "import numpy as np\n",
    "\n",
    "def get_feat(texts):\n",
    "    feats = np.zeros((len(texts), feat_size))\n",
    "    for i, text in enumerate(tqdm(texts)):\n",
    "        for htag in re.findall(r\"#\\w+\", text):\n",
    "            if htag in hashtags_idx:\n",
    "                feats[i, hashtags_idx[htag]] += 1\n",
    "        for ment in re.findall(r\"@\\w+\", text):\n",
    "            if ment in ment_idx:\n",
    "                feats[i, ment_idx[ment]] += 1\n",
    "        doc = nlp(text)\n",
    "        for ent in doc.ents:\n",
    "            entity = ent.text.lower()\n",
    "            if entity in ent_idx:\n",
    "                feats[i, ent_idx[entity]] += 1\n",
    "        text = basic_clean(text)\n",
    "        for word in text.split(' '):\n",
    "            if word in word_idx:\n",
    "                feats[i, word_idx[word]] += 1\n",
    "    return feats"
   ]
  },
  {
   "cell_type": "code",
   "execution_count": 126,
   "metadata": {},
   "outputs": [
    {
     "output_type": "stream",
     "name": "stderr",
     "text": [
      "100%|██████████| 22583/22583 [05:38<00:00, 66.63it/s]\n",
      "100%|██████████| 3044/3044 [00:45<00:00, 66.40it/s]\n"
     ]
    }
   ],
   "source": [
    "train_feat = get_feat(df_train.text)\n",
    "val_feat = get_feat(df_val.text)"
   ]
  },
  {
   "cell_type": "code",
   "execution_count": 135,
   "metadata": {},
   "outputs": [
    {
     "output_type": "execute_result",
     "data": {
      "text/plain": [
       "2935"
      ]
     },
     "metadata": {},
     "execution_count": 135
    }
   ],
   "source": [
    "np.sum(~train_feat.any(1))"
   ]
  },
  {
   "cell_type": "code",
   "execution_count": 136,
   "metadata": {},
   "outputs": [],
   "source": [
    "from sklearn.preprocessing import normalize\n",
    "\n",
    "train_feat_norm = normalize(train_feat)\n",
    "val_feat_norm = normalize(val_feat)"
   ]
  },
  {
   "cell_type": "code",
   "execution_count": 137,
   "metadata": {},
   "outputs": [],
   "source": [
    "train_lat = np.array(df_train.lat)\n",
    "train_long = np.array(df_train.long)\n",
    "val_lat = np.array(df_val.lat)\n",
    "val_long = np.array(df_val.long)\n"
   ]
  },
  {
   "cell_type": "code",
   "execution_count": 138,
   "metadata": {},
   "outputs": [],
   "source": [
    "def mae_coordinates(true, predicted):\n",
    "    mae = np.abs(true - predicted).mean(axis=0)\n",
    "    return (mae[0] + mae[1]) / 2"
   ]
  },
  {
   "cell_type": "code",
   "execution_count": 139,
   "metadata": {},
   "outputs": [],
   "source": [
    "from sklearn.svm import SVR\n",
    "\n",
    "C = 1.0\n",
    "svr_lat = SVR(C=C)\n",
    "svr_long = SVR(C=C)"
   ]
  },
  {
   "cell_type": "code",
   "execution_count": null,
   "metadata": {},
   "outputs": [],
   "source": [
    "svr_lat.fit(train_feat_norm, train_lat)"
   ]
  },
  {
   "cell_type": "code",
   "execution_count": null,
   "metadata": {},
   "outputs": [],
   "source": [
    "svr_long.fit(train_feat_norm, train_long)"
   ]
  }
 ]
}