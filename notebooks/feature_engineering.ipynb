{
 "metadata": {
  "language_info": {
   "codemirror_mode": {
    "name": "ipython",
    "version": 3
   },
   "file_extension": ".py",
   "mimetype": "text/x-python",
   "name": "python",
   "nbconvert_exporter": "python",
   "pygments_lexer": "ipython3",
   "version": "3.8.5-final"
  },
  "orig_nbformat": 2,
  "kernelspec": {
   "name": "python3",
   "display_name": "Python 3",
   "language": "python"
  }
 },
 "nbformat": 4,
 "nbformat_minor": 2,
 "cells": [
  {
   "cell_type": "code",
   "execution_count": 3,
   "metadata": {},
   "outputs": [
    {
     "output_type": "execute_result",
     "data": {
      "text/plain": [
       "       id        lat       long  \\\n",
       "0  119165  51.810067  10.191331   \n",
       "1  100377  51.918188  10.599245   \n",
       "2  109550  52.711074   9.987374   \n",
       "3  111440  52.386711  11.700612   \n",
       "4  116670  52.314631   9.701835   \n",
       "\n",
       "                                                text  \n",
       "0  Seit d Vase: \"Wenn ich kaputt gang, bringt das...  \n",
       "1  Haha bin au w isch der amig au so richtig lang...  \n",
       "2  isch d hiltl dachterrasse amne samstig viel bs...  \n",
       "3  Ich fühle mich wie die Weimarer Republik... .....  \n",
       "4  Eui liebschte Lunchidee zum Mitneh? 😬 En Grill...  "
      ],
      "text/html": "<div>\n<style scoped>\n    .dataframe tbody tr th:only-of-type {\n        vertical-align: middle;\n    }\n\n    .dataframe tbody tr th {\n        vertical-align: top;\n    }\n\n    .dataframe thead th {\n        text-align: right;\n    }\n</style>\n<table border=\"1\" class=\"dataframe\">\n  <thead>\n    <tr style=\"text-align: right;\">\n      <th></th>\n      <th>id</th>\n      <th>lat</th>\n      <th>long</th>\n      <th>text</th>\n    </tr>\n  </thead>\n  <tbody>\n    <tr>\n      <th>0</th>\n      <td>119165</td>\n      <td>51.810067</td>\n      <td>10.191331</td>\n      <td>Seit d Vase: \"Wenn ich kaputt gang, bringt das...</td>\n    </tr>\n    <tr>\n      <th>1</th>\n      <td>100377</td>\n      <td>51.918188</td>\n      <td>10.599245</td>\n      <td>Haha bin au w isch der amig au so richtig lang...</td>\n    </tr>\n    <tr>\n      <th>2</th>\n      <td>109550</td>\n      <td>52.711074</td>\n      <td>9.987374</td>\n      <td>isch d hiltl dachterrasse amne samstig viel bs...</td>\n    </tr>\n    <tr>\n      <th>3</th>\n      <td>111440</td>\n      <td>52.386711</td>\n      <td>11.700612</td>\n      <td>Ich fühle mich wie die Weimarer Republik... .....</td>\n    </tr>\n    <tr>\n      <th>4</th>\n      <td>116670</td>\n      <td>52.314631</td>\n      <td>9.701835</td>\n      <td>Eui liebschte Lunchidee zum Mitneh? 😬 En Grill...</td>\n    </tr>\n  </tbody>\n</table>\n</div>"
     },
     "metadata": {},
     "execution_count": 3
    }
   ],
   "source": [
    "import pandas as pd\n",
    "\n",
    "COLS = [\"id\", \"lat\", \"long\", \"text\"]\n",
    "df_train = pd.read_csv(\"../data/training.txt\", names=COLS)\n",
    "df_val = pd.read_csv(\"../data/validation.txt\", names=COLS)\n",
    "\n",
    "df_train.head()"
   ]
  },
  {
   "cell_type": "code",
   "execution_count": 5,
   "metadata": {},
   "outputs": [
    {
     "output_type": "execute_result",
     "data": {
      "text/plain": [
       "['#aa', '#bb', '#cc']"
      ]
     },
     "metadata": {},
     "execution_count": 5
    }
   ],
   "source": [
    "import re\n",
    "\n",
    "re.findall(r\"#\\w+\", \"bla #aa bla #bb #cc\")"
   ]
  },
  {
   "cell_type": "code",
   "execution_count": 6,
   "metadata": {},
   "outputs": [],
   "source": [
    "from collections import Counter\n",
    "\n",
    "cnt = Counter()\n",
    "for text in df_train.text:\n",
    "    for htag in re.findall(r\"#\\w+\", text):\n",
    "        cnt[htag] += 1"
   ]
  },
  {
   "cell_type": "code",
   "execution_count": 9,
   "metadata": {},
   "outputs": [
    {
     "output_type": "execute_result",
     "data": {
      "text/plain": [
       "78"
      ]
     },
     "metadata": {},
     "execution_count": 9
    }
   ],
   "source": [
    "all_hashtags = [k for k in cnt if cnt[k] >= 5]\n",
    "len(all_hashtags)"
   ]
  },
  {
   "cell_type": "code",
   "execution_count": 10,
   "metadata": {},
   "outputs": [],
   "source": [
    "cnt = Counter()\n",
    "for text in df_train.text:\n",
    "    for ment in re.findall(r\"@\\w+\", text):\n",
    "        cnt[ment] += 1"
   ]
  },
  {
   "cell_type": "code",
   "execution_count": 13,
   "metadata": {},
   "outputs": [
    {
     "output_type": "execute_result",
     "data": {
      "text/plain": [
       "24"
      ]
     },
     "metadata": {},
     "execution_count": 13
    }
   ],
   "source": [
    "all_ment = [k for k in cnt if cnt[k] >= 5]\n",
    "len(all_ment)"
   ]
  },
  {
   "cell_type": "code",
   "execution_count": 14,
   "metadata": {},
   "outputs": [],
   "source": [
    "import spacy\n",
    "\n",
    "nlp = spacy.load(\"de_core_news_lg\")"
   ]
  },
  {
   "cell_type": "code",
   "execution_count": 15,
   "metadata": {},
   "outputs": [
    {
     "output_type": "stream",
     "name": "stderr",
     "text": [
      "100%|██████████| 22583/22583 [05:44<00:00, 65.56it/s]\n"
     ]
    }
   ],
   "source": [
    "from tqdm import tqdm\n",
    "\n",
    "cnt = Counter()\n",
    "for text in tqdm(df_train.text):\n",
    "    doc = nlp(text)\n",
    "    for ent in doc.ents:\n",
    "        cnt[ent.text.lower()] += 1"
   ]
  },
  {
   "cell_type": "code",
   "execution_count": 9,
   "metadata": {},
   "outputs": [],
   "source": [
    "cnt_ent = cnt"
   ]
  },
  {
   "cell_type": "code",
   "execution_count": 10,
   "metadata": {},
   "outputs": [
    {
     "output_type": "execute_result",
     "data": {
      "text/plain": [
       "344"
      ]
     },
     "metadata": {},
     "execution_count": 10
    }
   ],
   "source": [
    "all_ent = [k for k in cnt if cnt[k] >= 20]\n",
    "len(all_ent)"
   ]
  },
  {
   "cell_type": "code",
   "execution_count": 11,
   "metadata": {},
   "outputs": [],
   "source": [
    "def basic_clean(text):\n",
    "    text = re.sub(r\"@[a-zA-Z0-9äöüÄÖÜß]+\", \" \", text)\n",
    "    text = re.sub(r\"#[a-zA-Z0-9äöüÄÖÜß]+\", \" \", text)\n",
    "    text = re.sub(r\"https?://[^ ]+\", \" \", text)\n",
    "    text = re.sub(r\"www.[^ ]+\", \" \", text)\n",
    "    text = re.sub(r\"[^a-zA-ZäöüÄÖÜß]\", \" \", text)\n",
    "    text = re.sub(\" +\", \" \", text)\n",
    "    text = text.lower()\n",
    "    return text.strip()"
   ]
  },
  {
   "cell_type": "code",
   "execution_count": 12,
   "metadata": {},
   "outputs": [],
   "source": [
    "from collections import defaultdict\n",
    "\n",
    "word_coords = defaultdict(list)\n",
    "\n",
    "for text, lat, long in zip(df_train.text, df_train.lat, df_train.long):\n",
    "    text = basic_clean(text)\n",
    "    for word in set(text.split(' ')):\n",
    "        word_coords[word].append((lat, long))"
   ]
  },
  {
   "cell_type": "code",
   "execution_count": 13,
   "metadata": {},
   "outputs": [],
   "source": [
    "def mean_2d(v):\n",
    "    sum_0 = sum(x for x, _ in v)\n",
    "    sum_1 = sum(y for _, y in v)\n",
    "    return (sum_0 / len(v), sum_1 / len(v))"
   ]
  },
  {
   "cell_type": "code",
   "execution_count": 14,
   "metadata": {},
   "outputs": [],
   "source": [
    "def l1_norm_2d(x):\n",
    "    return abs(x[0]) + abs(x[1])"
   ]
  },
  {
   "cell_type": "code",
   "execution_count": 15,
   "metadata": {},
   "outputs": [],
   "source": [
    "def unbiased_variance_2d(v):\n",
    "    x_mean = mean_2d(v)\n",
    "    sum = 0\n",
    "    for x in v:\n",
    "        sum += l1_norm_2d((x[0] - x_mean[0], x[1] - x_mean[1])) ** 2\n",
    "    sum /= len(v) - 1\n",
    "    return sum"
   ]
  },
  {
   "cell_type": "code",
   "execution_count": 16,
   "metadata": {},
   "outputs": [],
   "source": [
    "word_stats = []\n",
    "\n",
    "for word, coords in word_coords.items():\n",
    "    if len(coords) < 2:\n",
    "        continue\n",
    "    var = unbiased_variance_2d(coords)\n",
    "    word_stats.append((word, var, len(coords)))"
   ]
  },
  {
   "cell_type": "code",
   "execution_count": 17,
   "metadata": {},
   "outputs": [],
   "source": [
    "sorted_word_stats = sorted(word_stats, key=lambda x: (x[1], -x[2]))"
   ]
  },
  {
   "cell_type": "code",
   "execution_count": 85,
   "metadata": {},
   "outputs": [],
   "source": [
    "filtered_word_stats = [x for x in sorted_word_stats if x[2] >= 5 and x[1] <= 5]"
   ]
  },
  {
   "cell_type": "code",
   "execution_count": 86,
   "metadata": {},
   "outputs": [
    {
     "output_type": "execute_result",
     "data": {
      "text/plain": [
       "12028"
      ]
     },
     "metadata": {},
     "execution_count": 86
    }
   ],
   "source": [
    "len(filtered_word_stats)"
   ]
  },
  {
   "cell_type": "code",
   "execution_count": 87,
   "metadata": {},
   "outputs": [],
   "source": [
    "all_location_words = [x[0] for x in filtered_word_stats]"
   ]
  },
  {
   "cell_type": "code",
   "execution_count": 88,
   "metadata": {},
   "outputs": [],
   "source": [
    "idx = 0\n",
    "hashtags_idx = {}\n",
    "for htag in all_hashtags:\n",
    "    hashtags_idx[htag] = idx\n",
    "    idx += 1\n",
    "ment_idx = {}\n",
    "for ment in all_ment:\n",
    "    ment_idx[ment] = idx\n",
    "    idx += 1\n",
    "ent_idx = {}\n",
    "for ent in all_ent:\n",
    "    ent_idx[ent] = idx\n",
    "    idx += 1\n",
    "word_idx = {}\n",
    "for word in all_location_words:\n",
    "    word_idx[word] = idx\n",
    "    idx += 1"
   ]
  },
  {
   "cell_type": "code",
   "execution_count": 89,
   "metadata": {},
   "outputs": [
    {
     "output_type": "execute_result",
     "data": {
      "text/plain": [
       "12474"
      ]
     },
     "metadata": {},
     "execution_count": 89
    }
   ],
   "source": [
    "feat_size = idx\n",
    "feat_size"
   ]
  },
  {
   "cell_type": "code",
   "execution_count": 90,
   "metadata": {},
   "outputs": [],
   "source": [
    "import numpy as np\n",
    "\n",
    "def get_feat(texts):\n",
    "    feats = np.zeros((len(texts), feat_size))\n",
    "    for i, text in enumerate(tqdm(texts)):\n",
    "        for htag in re.findall(r\"#\\w+\", text):\n",
    "            if htag in hashtags_idx:\n",
    "                feats[i, hashtags_idx[htag]] += 1\n",
    "        for ment in re.findall(r\"@\\w+\", text):\n",
    "            if ment in ment_idx:\n",
    "                feats[i, ment_idx[ment]] += 1\n",
    "        doc = nlp(text)\n",
    "        for ent in doc.ents:\n",
    "            entity = ent.text.lower()\n",
    "            if entity in ent_idx:\n",
    "                feats[i, ent_idx[entity]] += 1\n",
    "        text = basic_clean(text)\n",
    "        for word in text.split(' '):\n",
    "            if word in word_idx:\n",
    "                feats[i, word_idx[word]] += 1\n",
    "    return feats"
   ]
  },
  {
   "cell_type": "code",
   "execution_count": 91,
   "metadata": {},
   "outputs": [
    {
     "output_type": "stream",
     "name": "stderr",
     "text": [
      "100%|██████████| 22583/22583 [05:59<00:00, 62.77it/s]\n",
      "100%|██████████| 3044/3044 [00:52<00:00, 58.50it/s]\n"
     ]
    }
   ],
   "source": [
    "train_feat = get_feat(df_train.text)\n",
    "val_feat = get_feat(df_val.text)"
   ]
  },
  {
   "cell_type": "code",
   "execution_count": 103,
   "metadata": {},
   "outputs": [
    {
     "output_type": "execute_result",
     "data": {
      "text/plain": [
       "0"
      ]
     },
     "metadata": {},
     "execution_count": 103
    }
   ],
   "source": [
    "np.sum(~train_feat.any(1))"
   ]
  },
  {
   "cell_type": "code",
   "execution_count": 93,
   "metadata": {},
   "outputs": [],
   "source": [
    "from sklearn.preprocessing import normalize\n",
    "\n",
    "train_feat_norm = normalize(train_feat)\n",
    "val_feat_norm = normalize(val_feat)"
   ]
  },
  {
   "cell_type": "code",
   "execution_count": 94,
   "metadata": {},
   "outputs": [],
   "source": [
    "train_lat = np.array(df_train.lat)\n",
    "train_long = np.array(df_train.long)\n",
    "val_lat = np.array(df_val.lat)\n",
    "val_long = np.array(df_val.long)\n"
   ]
  },
  {
   "cell_type": "code",
   "execution_count": 95,
   "metadata": {},
   "outputs": [],
   "source": [
    "def mae_coordinates(true, predicted):\n",
    "    mae = np.abs(true - predicted).mean(axis=0)\n",
    "    return (mae[0] + mae[1]) / 2"
   ]
  },
  {
   "cell_type": "code",
   "execution_count": 1,
   "metadata": {},
   "outputs": [],
   "source": [
    "from sklearn.svm import LinearSVR\n",
    "\n",
    "svr_lat = LinearSVR(C=1)\n",
    "svr_long = LinearSVR(C=1)"
   ]
  },
  {
   "cell_type": "code",
   "execution_count": 2,
   "metadata": {},
   "outputs": [
    {
     "output_type": "error",
     "ename": "NameError",
     "evalue": "name 'train_feat_norm' is not defined",
     "traceback": [
      "\u001b[0;31m---------------------------------------------------------------------------\u001b[0m",
      "\u001b[0;31mNameError\u001b[0m                                 Traceback (most recent call last)",
      "\u001b[0;32m<ipython-input-2-c195ece06eff>\u001b[0m in \u001b[0;36m<module>\u001b[0;34m\u001b[0m\n\u001b[0;32m----> 1\u001b[0;31m \u001b[0msvr_lat\u001b[0m\u001b[0;34m.\u001b[0m\u001b[0mfit\u001b[0m\u001b[0;34m(\u001b[0m\u001b[0mtrain_feat_norm\u001b[0m\u001b[0;34m,\u001b[0m \u001b[0mtrain_lat\u001b[0m\u001b[0;34m)\u001b[0m\u001b[0;34m\u001b[0m\u001b[0;34m\u001b[0m\u001b[0m\n\u001b[0m",
      "\u001b[0;31mNameError\u001b[0m: name 'train_feat_norm' is not defined"
     ]
    }
   ],
   "source": [
    "svr_lat.fit(train_feat_norm, train_lat)"
   ]
  },
  {
   "cell_type": "code",
   "execution_count": 149,
   "metadata": {},
   "outputs": [
    {
     "output_type": "execute_result",
     "data": {
      "text/plain": [
       "ElasticNet(alpha=100)"
      ]
     },
     "metadata": {},
     "execution_count": 149
    }
   ],
   "source": [
    "svr_long.fit(train_feat_norm, train_long)"
   ]
  },
  {
   "cell_type": "code",
   "execution_count": 150,
   "metadata": {},
   "outputs": [],
   "source": [
    "predict_train_lat = svr_lat.predict(train_feat_norm)\n",
    "predict_train_long = svr_long.predict(train_feat_norm)\n",
    "predict_val_lat = svr_lat.predict(val_feat_norm)\n",
    "predict_val_long = svr_long.predict(val_feat_norm)"
   ]
  },
  {
   "cell_type": "code",
   "execution_count": 151,
   "metadata": {},
   "outputs": [
    {
     "output_type": "execute_result",
     "data": {
      "text/plain": [
       "0.9227192306997337"
      ]
     },
     "metadata": {},
     "execution_count": 151
    }
   ],
   "source": [
    "mae_coordinates(np.column_stack([train_lat, train_long]), np.column_stack([predict_train_lat, predict_train_long]))"
   ]
  },
  {
   "cell_type": "code",
   "execution_count": 152,
   "metadata": {},
   "outputs": [
    {
     "output_type": "execute_result",
     "data": {
      "text/plain": [
       "0.9068861038263047"
      ]
     },
     "metadata": {},
     "execution_count": 152
    }
   ],
   "source": [
    "mae_coordinates(np.column_stack([val_lat, val_long]), np.column_stack([predict_val_lat, predict_val_long]))"
   ]
  }
 ]
}